{
 "cells": [
  {
   "cell_type": "markdown",
   "id": "02824551",
   "metadata": {},
   "source": [
    "# Исследовательский анализ заведений общественного питания Москвы\n",
    "\n",
    "- Автор: Сенникова Алёна\n",
    "\n",
    "## Цель и задачи  \n",
    "\n",
    "**Цель:** Исследовать структуру ресторанного рынка Москвы, определить ключевые характеристики заведений и выявить факторы, влияющие на рейтинг.   \n",
    "\n",
    "**Задачи:**\n",
    "\n",
    "1. Загрузить и объединить данные о заведениях и их ценовой политике.  \n",
    "2. Провести предобработку: оптимизировать типы данных, обработать пропуски и дубликаты.  \n",
    "3. Выполнить исследовательский анализ (EDA): категории, районы, сетевость, количество мест, рейтинги.  \n",
    "4. Изучить взаимосвязи рейтинга с ценами, типом заведения, районом и другими признаками.  \n",
    "5. Сформулировать выводы и рекомендации для успешного позиционирования заведений.\n",
    "\n",
    "\n",
    "## Данные\n",
    "\n",
    "Для анализа поступили данные о заведениях общественного питания Москвы. Данные состоят из двух датасетов:\n",
    "\n",
    "- `rest_info.csv` — общая информация о заведениях (категория, адрес, район, рейтинг, количество мест, сетевость, часы работы);  \n",
    "- `rest_price.csv` — ценовая информация (средний чек, категория цен, цена чашки кофе).  \n",
    "\n",
    "\n",
    "## Структура проекта\n",
    "\n",
    "1. Введение \n",
    "2. Предобработка данных     \n",
    "3. Исследовательский анализ данных   \n",
    "4. Изучение рейтингов и корреляци1\n",
    "5. Составление Топ-15 сетей\n",
    "6. Анализ среднего чека и расположения\n",
    "7. Общие выводы\n",
    "\n",
    "---"
   ]
  },
  {
   "cell_type": "markdown",
   "id": "962b9409",
   "metadata": {},
   "source": [
    "## Загрузка данных и знакомство с ними\n",
    "\n",
    "Начнём с загрузки библиотек и датасетов `rest_info` и `rest_price`. Будем использовать pandas и библиотеки визуализации данных matplotlib и seaborn, а также phik для построения матрицы корреляции. Данные датасетов сохраним в двух переменных: `info_df` и `price_df`."
   ]
  },
  {
   "cell_type": "code",
   "execution_count": 1,
   "id": "a1192c55",
   "metadata": {},
   "outputs": [
    {
     "name": "stdout",
     "output_type": "stream",
     "text": [
      "Requirement already satisfied: phik in /opt/conda/lib/python3.9/site-packages (0.12.5)\n",
      "Requirement already satisfied: numpy>=1.18.0 in /opt/conda/lib/python3.9/site-packages (from phik) (1.21.1)\n",
      "Requirement already satisfied: scipy>=1.5.2 in /opt/conda/lib/python3.9/site-packages (from phik) (1.9.1)\n",
      "Requirement already satisfied: joblib>=0.14.1 in /opt/conda/lib/python3.9/site-packages (from phik) (1.1.0)\n",
      "Requirement already satisfied: pandas>=0.25.1 in /opt/conda/lib/python3.9/site-packages (from phik) (1.2.4)\n",
      "Requirement already satisfied: matplotlib>=2.2.3 in /opt/conda/lib/python3.9/site-packages (from phik) (3.3.4)\n",
      "Requirement already satisfied: kiwisolver>=1.0.1 in /opt/conda/lib/python3.9/site-packages (from matplotlib>=2.2.3->phik) (1.4.4)\n",
      "Requirement already satisfied: python-dateutil>=2.1 in /opt/conda/lib/python3.9/site-packages (from matplotlib>=2.2.3->phik) (2.8.1)\n",
      "Requirement already satisfied: cycler>=0.10 in /opt/conda/lib/python3.9/site-packages (from matplotlib>=2.2.3->phik) (0.11.0)\n",
      "Requirement already satisfied: pillow>=6.2.0 in /opt/conda/lib/python3.9/site-packages (from matplotlib>=2.2.3->phik) (8.4.0)\n",
      "Requirement already satisfied: pyparsing!=2.0.4,!=2.1.2,!=2.1.6,>=2.0.3 in /opt/conda/lib/python3.9/site-packages (from matplotlib>=2.2.3->phik) (2.4.7)\n",
      "Requirement already satisfied: pytz>=2017.3 in /opt/conda/lib/python3.9/site-packages (from pandas>=0.25.1->phik) (2021.1)\n",
      "Requirement already satisfied: six>=1.5 in /opt/conda/lib/python3.9/site-packages (from python-dateutil>=2.1->matplotlib>=2.2.3->phik) (1.16.0)\n"
     ]
    }
   ],
   "source": [
    "!pip install phik -U"
   ]
  },
  {
   "cell_type": "code",
   "execution_count": 2,
   "id": "d0482702",
   "metadata": {},
   "outputs": [],
   "source": [
    "# Импортируем библиотеки\n",
    "import pandas as pd\n",
    "\n",
    "# Загружаем библиотеки для визуализации данных\n",
    "import seaborn as sns\n",
    "import matplotlib.pyplot as plt\n",
    "\n",
    "# Загружаем библиотеку для расчёта коэффициента корреляции phi_k\n",
    "from phik import phik_matrix"
   ]
  },
  {
   "cell_type": "code",
   "execution_count": 3,
   "id": "c52afb12",
   "metadata": {},
   "outputs": [],
   "source": [
    "# Выгружаем данные в переменные info_df и price_df\n",
    "info_df = pd.read_csv('https://code.s3.yandex.net/datasets/rest_info.csv')\n",
    "price_df = pd.read_csv('https://code.s3.yandex.net/datasets/rest_price.csv')"
   ]
  },
  {
   "cell_type": "markdown",
   "id": "36293bfc",
   "metadata": {},
   "source": [
    "Познакомимся с данными датасета `rest_info.csv` — выведем первые 5 строк методом `head()`, а информацию о датафрейме методом `info()`:"
   ]
  },
  {
   "cell_type": "code",
   "execution_count": 4,
   "id": "f80453e8",
   "metadata": {},
   "outputs": [
    {
     "data": {
      "text/html": [
       "<div>\n",
       "<style scoped>\n",
       "    .dataframe tbody tr th:only-of-type {\n",
       "        vertical-align: middle;\n",
       "    }\n",
       "\n",
       "    .dataframe tbody tr th {\n",
       "        vertical-align: top;\n",
       "    }\n",
       "\n",
       "    .dataframe thead th {\n",
       "        text-align: right;\n",
       "    }\n",
       "</style>\n",
       "<table border=\"1\" class=\"dataframe\">\n",
       "  <thead>\n",
       "    <tr style=\"text-align: right;\">\n",
       "      <th></th>\n",
       "      <th>id</th>\n",
       "      <th>name</th>\n",
       "      <th>category</th>\n",
       "      <th>address</th>\n",
       "      <th>district</th>\n",
       "      <th>hours</th>\n",
       "      <th>rating</th>\n",
       "      <th>chain</th>\n",
       "      <th>seats</th>\n",
       "    </tr>\n",
       "  </thead>\n",
       "  <tbody>\n",
       "    <tr>\n",
       "      <th>0</th>\n",
       "      <td>0c3e3439a8c64ea5bf6ecd6ca6ae19f0</td>\n",
       "      <td>WoWфли</td>\n",
       "      <td>кафе</td>\n",
       "      <td>Москва, улица Дыбенко, 7/1</td>\n",
       "      <td>Северный административный округ</td>\n",
       "      <td>ежедневно, 10:00–22:00</td>\n",
       "      <td>5.0</td>\n",
       "      <td>0</td>\n",
       "      <td>NaN</td>\n",
       "    </tr>\n",
       "    <tr>\n",
       "      <th>1</th>\n",
       "      <td>045780ada3474c57a2112e505d74b633</td>\n",
       "      <td>Четыре комнаты</td>\n",
       "      <td>ресторан</td>\n",
       "      <td>Москва, улица Дыбенко, 36, корп. 1</td>\n",
       "      <td>Северный административный округ</td>\n",
       "      <td>ежедневно, 10:00–22:00</td>\n",
       "      <td>4.5</td>\n",
       "      <td>0</td>\n",
       "      <td>4.0</td>\n",
       "    </tr>\n",
       "    <tr>\n",
       "      <th>2</th>\n",
       "      <td>1070b6b59144425896c65889347fcff6</td>\n",
       "      <td>Хазри</td>\n",
       "      <td>кафе</td>\n",
       "      <td>Москва, Клязьминская улица, 15</td>\n",
       "      <td>Северный административный округ</td>\n",
       "      <td>пн-чт 11:00–02:00; пт,сб 11:00–05:00; вс 11:00...</td>\n",
       "      <td>4.6</td>\n",
       "      <td>0</td>\n",
       "      <td>45.0</td>\n",
       "    </tr>\n",
       "    <tr>\n",
       "      <th>3</th>\n",
       "      <td>03ac7cd772104f65b58b349dc59f03ee</td>\n",
       "      <td>Dormouse Coffee Shop</td>\n",
       "      <td>кофейня</td>\n",
       "      <td>Москва, улица Маршала Федоренко, 12</td>\n",
       "      <td>Северный административный округ</td>\n",
       "      <td>ежедневно, 09:00–22:00</td>\n",
       "      <td>5.0</td>\n",
       "      <td>0</td>\n",
       "      <td>NaN</td>\n",
       "    </tr>\n",
       "    <tr>\n",
       "      <th>4</th>\n",
       "      <td>a163aada139c4c7f87b0b1c0b466a50f</td>\n",
       "      <td>Иль Марко</td>\n",
       "      <td>пиццерия</td>\n",
       "      <td>Москва, Правобережная улица, 1Б</td>\n",
       "      <td>Северный административный округ</td>\n",
       "      <td>ежедневно, 10:00–22:00</td>\n",
       "      <td>5.0</td>\n",
       "      <td>1</td>\n",
       "      <td>148.0</td>\n",
       "    </tr>\n",
       "  </tbody>\n",
       "</table>\n",
       "</div>"
      ],
      "text/plain": [
       "                                 id                  name  category  \\\n",
       "0  0c3e3439a8c64ea5bf6ecd6ca6ae19f0                WoWфли      кафе   \n",
       "1  045780ada3474c57a2112e505d74b633        Четыре комнаты  ресторан   \n",
       "2  1070b6b59144425896c65889347fcff6                 Хазри      кафе   \n",
       "3  03ac7cd772104f65b58b349dc59f03ee  Dormouse Coffee Shop   кофейня   \n",
       "4  a163aada139c4c7f87b0b1c0b466a50f             Иль Марко  пиццерия   \n",
       "\n",
       "                               address                         district  \\\n",
       "0           Москва, улица Дыбенко, 7/1  Северный административный округ   \n",
       "1   Москва, улица Дыбенко, 36, корп. 1  Северный административный округ   \n",
       "2       Москва, Клязьминская улица, 15  Северный административный округ   \n",
       "3  Москва, улица Маршала Федоренко, 12  Северный административный округ   \n",
       "4      Москва, Правобережная улица, 1Б  Северный административный округ   \n",
       "\n",
       "                                               hours  rating  chain  seats  \n",
       "0                             ежедневно, 10:00–22:00     5.0      0    NaN  \n",
       "1                             ежедневно, 10:00–22:00     4.5      0    4.0  \n",
       "2  пн-чт 11:00–02:00; пт,сб 11:00–05:00; вс 11:00...     4.6      0   45.0  \n",
       "3                             ежедневно, 09:00–22:00     5.0      0    NaN  \n",
       "4                             ежедневно, 10:00–22:00     5.0      1  148.0  "
      ]
     },
     "execution_count": 4,
     "metadata": {},
     "output_type": "execute_result"
    }
   ],
   "source": [
    "# Выводим первые строки датафрейма на экран\n",
    "info_df.head()"
   ]
  },
  {
   "cell_type": "code",
   "execution_count": 5,
   "id": "b7dd6b39",
   "metadata": {},
   "outputs": [
    {
     "name": "stdout",
     "output_type": "stream",
     "text": [
      "<class 'pandas.core.frame.DataFrame'>\n",
      "RangeIndex: 8406 entries, 0 to 8405\n",
      "Data columns (total 9 columns):\n",
      " #   Column    Non-Null Count  Dtype  \n",
      "---  ------    --------------  -----  \n",
      " 0   id        8406 non-null   object \n",
      " 1   name      8406 non-null   object \n",
      " 2   category  8406 non-null   object \n",
      " 3   address   8406 non-null   object \n",
      " 4   district  8406 non-null   object \n",
      " 5   hours     7870 non-null   object \n",
      " 6   rating    8406 non-null   float64\n",
      " 7   chain     8406 non-null   int64  \n",
      " 8   seats     4795 non-null   float64\n",
      "dtypes: float64(2), int64(1), object(6)\n",
      "memory usage: 591.2+ KB\n"
     ]
    }
   ],
   "source": [
    "# Выводим информацию о датафрейме\n",
    "info_df.info()"
   ]
  },
  {
   "cell_type": "markdown",
   "id": "80d79be7",
   "metadata": {},
   "source": [
    "Датасет `rest_info.csv` содержит 9 столбцов и 8406 строк, в которых представлена информация основная о заведениях общественного питания.\n",
    "\n",
    "После первичного анализа данных можно сделать следующие выводы:\n",
    "- В данных представлены как числовые значения - хранятся в типах данных `int64` или `float64`, так и строки - для их хранения используется тип `object`. Значения в столбце `chain` показывают является ли заведение сетевым и содержат значения 1 или 0 - размерность этих данных можно оптимизировать.\n",
    "- Пропуски содержатся в столбцах `hours` и `seats`. Однако следует проверить и другие столбцы: в них могут встречаться значения-индикаторы, которые будут говорить об отсутствии данных.\n",
    "- Судя по первому знакомству с данными, значения в столбцах соответствуют своему описанию.\n",
    "\n",
    "Теперь познакомимся с данными датасета `rest_price.csv`."
   ]
  },
  {
   "cell_type": "code",
   "execution_count": 6,
   "id": "f178f219",
   "metadata": {},
   "outputs": [
    {
     "data": {
      "text/html": [
       "<div>\n",
       "<style scoped>\n",
       "    .dataframe tbody tr th:only-of-type {\n",
       "        vertical-align: middle;\n",
       "    }\n",
       "\n",
       "    .dataframe tbody tr th {\n",
       "        vertical-align: top;\n",
       "    }\n",
       "\n",
       "    .dataframe thead th {\n",
       "        text-align: right;\n",
       "    }\n",
       "</style>\n",
       "<table border=\"1\" class=\"dataframe\">\n",
       "  <thead>\n",
       "    <tr style=\"text-align: right;\">\n",
       "      <th></th>\n",
       "      <th>id</th>\n",
       "      <th>price</th>\n",
       "      <th>avg_bill</th>\n",
       "      <th>middle_avg_bill</th>\n",
       "      <th>middle_coffee_cup</th>\n",
       "    </tr>\n",
       "  </thead>\n",
       "  <tbody>\n",
       "    <tr>\n",
       "      <th>0</th>\n",
       "      <td>045780ada3474c57a2112e505d74b633</td>\n",
       "      <td>выше среднего</td>\n",
       "      <td>Средний счёт:1500–1600 ₽</td>\n",
       "      <td>1550.0</td>\n",
       "      <td>NaN</td>\n",
       "    </tr>\n",
       "    <tr>\n",
       "      <th>1</th>\n",
       "      <td>1070b6b59144425896c65889347fcff6</td>\n",
       "      <td>средние</td>\n",
       "      <td>Средний счёт:от 1000 ₽</td>\n",
       "      <td>1000.0</td>\n",
       "      <td>NaN</td>\n",
       "    </tr>\n",
       "    <tr>\n",
       "      <th>2</th>\n",
       "      <td>03ac7cd772104f65b58b349dc59f03ee</td>\n",
       "      <td>NaN</td>\n",
       "      <td>Цена чашки капучино:155–185 ₽</td>\n",
       "      <td>NaN</td>\n",
       "      <td>170.0</td>\n",
       "    </tr>\n",
       "    <tr>\n",
       "      <th>3</th>\n",
       "      <td>a163aada139c4c7f87b0b1c0b466a50f</td>\n",
       "      <td>средние</td>\n",
       "      <td>Средний счёт:400–600 ₽</td>\n",
       "      <td>500.0</td>\n",
       "      <td>NaN</td>\n",
       "    </tr>\n",
       "    <tr>\n",
       "      <th>4</th>\n",
       "      <td>8a343546b24e4a499ad96eb7d0797a8a</td>\n",
       "      <td>средние</td>\n",
       "      <td>NaN</td>\n",
       "      <td>NaN</td>\n",
       "      <td>NaN</td>\n",
       "    </tr>\n",
       "  </tbody>\n",
       "</table>\n",
       "</div>"
      ],
      "text/plain": [
       "                                 id          price  \\\n",
       "0  045780ada3474c57a2112e505d74b633  выше среднего   \n",
       "1  1070b6b59144425896c65889347fcff6        средние   \n",
       "2  03ac7cd772104f65b58b349dc59f03ee            NaN   \n",
       "3  a163aada139c4c7f87b0b1c0b466a50f        средние   \n",
       "4  8a343546b24e4a499ad96eb7d0797a8a        средние   \n",
       "\n",
       "                        avg_bill  middle_avg_bill  middle_coffee_cup  \n",
       "0       Средний счёт:1500–1600 ₽           1550.0                NaN  \n",
       "1         Средний счёт:от 1000 ₽           1000.0                NaN  \n",
       "2  Цена чашки капучино:155–185 ₽              NaN              170.0  \n",
       "3         Средний счёт:400–600 ₽            500.0                NaN  \n",
       "4                            NaN              NaN                NaN  "
      ]
     },
     "execution_count": 6,
     "metadata": {},
     "output_type": "execute_result"
    }
   ],
   "source": [
    "# выводим первые строки датафрейма на экран\n",
    "price_df.head()"
   ]
  },
  {
   "cell_type": "code",
   "execution_count": 7,
   "id": "4bb9efae",
   "metadata": {},
   "outputs": [
    {
     "name": "stdout",
     "output_type": "stream",
     "text": [
      "<class 'pandas.core.frame.DataFrame'>\n",
      "RangeIndex: 4058 entries, 0 to 4057\n",
      "Data columns (total 5 columns):\n",
      " #   Column             Non-Null Count  Dtype  \n",
      "---  ------             --------------  -----  \n",
      " 0   id                 4058 non-null   object \n",
      " 1   price              3315 non-null   object \n",
      " 2   avg_bill           3816 non-null   object \n",
      " 3   middle_avg_bill    3149 non-null   float64\n",
      " 4   middle_coffee_cup  535 non-null    float64\n",
      "dtypes: float64(2), object(3)\n",
      "memory usage: 158.6+ KB\n"
     ]
    }
   ],
   "source": [
    "# Выводим информацию о датафрейме\n",
    "price_df.info()"
   ]
  },
  {
   "cell_type": "markdown",
   "id": "b0c72467",
   "metadata": {},
   "source": [
    "Датасет `rest_price.csv` содержит 5 столбцов и 4058 строк, в которых представлена информация о среднем чеке заведений. Можно отметить, что:\n",
    "\n",
    "- Названия столбцов представлены в едином стиле - snake case.\n",
    "- Типы данных соответствуют содержимому. Представлены как числовые значения - хранятся в типе данных `float64`, так и строки - для их хранения используется тип `object`.\n",
    "- Пропусков достаточно много в силу специфики данных, кроме того следует проверить в столбцах значения-индикаторы, которые могут говорить об отсутствии данных.\n",
    "- Значения в столбцах соответствуют описанию.  \n",
    "\n",
    "Первичное знакомство показывает, что данные хорошего качества — в них практически нет необоснованно пропущенных значений, а сами данные соответствуют описанию и выглядят корректными.\n",
    "\n",
    "---"
   ]
  },
  {
   "cell_type": "code",
   "execution_count": 8,
   "id": "8d7356fe",
   "metadata": {},
   "outputs": [],
   "source": [
    "# Объединяем данные двух датасетов в один df\n",
    "df = info_df.merge(price_df, how = 'left')"
   ]
  },
  {
   "cell_type": "code",
   "execution_count": 9,
   "id": "740a63bd",
   "metadata": {},
   "outputs": [
    {
     "name": "stdout",
     "output_type": "stream",
     "text": [
      "<class 'pandas.core.frame.DataFrame'>\n",
      "Int64Index: 8406 entries, 0 to 8405\n",
      "Data columns (total 13 columns):\n",
      " #   Column             Non-Null Count  Dtype  \n",
      "---  ------             --------------  -----  \n",
      " 0   id                 8406 non-null   object \n",
      " 1   name               8406 non-null   object \n",
      " 2   category           8406 non-null   object \n",
      " 3   address            8406 non-null   object \n",
      " 4   district           8406 non-null   object \n",
      " 5   hours              7870 non-null   object \n",
      " 6   rating             8406 non-null   float64\n",
      " 7   chain              8406 non-null   int64  \n",
      " 8   seats              4795 non-null   float64\n",
      " 9   price              3315 non-null   object \n",
      " 10  avg_bill           3816 non-null   object \n",
      " 11  middle_avg_bill    3149 non-null   float64\n",
      " 12  middle_coffee_cup  535 non-null    float64\n",
      "dtypes: float64(4), int64(1), object(8)\n",
      "memory usage: 919.4+ KB\n"
     ]
    }
   ],
   "source": [
    "# Выводим информацию об объединённом датафрейме\n",
    "df.info()"
   ]
  },
  {
   "cell_type": "markdown",
   "id": "511fd608",
   "metadata": {},
   "source": [
    "Датафреймы успешно объединились в один."
   ]
  },
  {
   "cell_type": "markdown",
   "id": "85cd7d5c",
   "metadata": {},
   "source": [
    "## Предобработка данных"
   ]
  },
  {
   "cell_type": "markdown",
   "id": "f43fbfbe",
   "metadata": {},
   "source": [
    "### Оптимизируем типы данных"
   ]
  },
  {
   "cell_type": "code",
   "execution_count": 10,
   "id": "78537c56",
   "metadata": {},
   "outputs": [],
   "source": [
    "# Оптимизируем целочисленный тип данных в датафрейме df\n",
    "df['chain'] = pd.to_numeric(df['chain'], downcast = 'integer')"
   ]
  },
  {
   "cell_type": "code",
   "execution_count": 11,
   "id": "6b889146",
   "metadata": {},
   "outputs": [
    {
     "data": {
      "text/plain": [
       "id                    object\n",
       "name                  object\n",
       "category              object\n",
       "address               object\n",
       "district              object\n",
       "hours                 object\n",
       "rating               float64\n",
       "chain                   int8\n",
       "seats                float64\n",
       "price                 object\n",
       "avg_bill              object\n",
       "middle_avg_bill      float64\n",
       "middle_coffee_cup    float64\n",
       "dtype: object"
      ]
     },
     "execution_count": 11,
     "metadata": {},
     "output_type": "execute_result"
    }
   ],
   "source": [
    "# Проверяем типы данных в датафрейме info_df с помощью атрибута dtypes\n",
    "df.dtypes"
   ]
  },
  {
   "cell_type": "markdown",
   "id": "d3672553",
   "metadata": {},
   "source": [
    "Тип данных был успешно оптимизирован с понижением размерности целочисленных данных.\n",
    "\n",
    "---"
   ]
  },
  {
   "cell_type": "markdown",
   "id": "365c57c3",
   "metadata": {},
   "source": [
    "###  Проверяем наличие пропусков в данных\n",
    "\n",
    "При первичном анализе мы обнаружили пропуски в столбцах `hours` и `seats` датафрейма `info_df`, а также в каждом из столбцов датафрейма `price_df`. Узнаем абсолютное и относительное количество пропусков в этих столбцах."
   ]
  },
  {
   "cell_type": "code",
   "execution_count": 12,
   "id": "c6a61427",
   "metadata": {},
   "outputs": [
    {
     "data": {
      "text/plain": [
       "id                      0\n",
       "name                    0\n",
       "category                0\n",
       "address                 0\n",
       "district                0\n",
       "hours                 536\n",
       "rating                  0\n",
       "chain                   0\n",
       "seats                3611\n",
       "price                5091\n",
       "avg_bill             4590\n",
       "middle_avg_bill      5257\n",
       "middle_coffee_cup    7871\n",
       "dtype: int64"
      ]
     },
     "execution_count": 12,
     "metadata": {},
     "output_type": "execute_result"
    }
   ],
   "source": [
    "# Применяем метод isna() к датафрейму df\n",
    "df.isna().sum()"
   ]
  },
  {
   "cell_type": "code",
   "execution_count": 13,
   "id": "a8d97e2c",
   "metadata": {},
   "outputs": [
    {
     "data": {
      "text/plain": [
       "id                   0.000000\n",
       "name                 0.000000\n",
       "category             0.000000\n",
       "address              0.000000\n",
       "district             0.000000\n",
       "hours                0.063764\n",
       "rating               0.000000\n",
       "chain                0.000000\n",
       "seats                0.429574\n",
       "price                0.605639\n",
       "avg_bill             0.546039\n",
       "middle_avg_bill      0.625387\n",
       "middle_coffee_cup    0.936355\n",
       "dtype: float64"
      ]
     },
     "execution_count": 13,
     "metadata": {},
     "output_type": "execute_result"
    }
   ],
   "source": [
    "# Подсчитываем долю строк с пропусками\n",
    "df.isna().sum() / df.shape[0]"
   ]
  },
  {
   "cell_type": "markdown",
   "id": "e9b214f8",
   "metadata": {},
   "source": [
    "В датафрейме `df` обнаружено 536 пропусков в столбце `hours` - это 6% данных; 3611 пропусков в столбце `seats` - это 43% данных; 5091 пропуска в столбце `price` - это 61% данных; 4590 пропуска в столбце `avg_bill` - это 55% данных; 5257 пропусков в столбце `middle_avg_bill` - это 63% данных; 7871 пропуска в столбце `middle_coffee_cup` - это 94% данных. Количество пропусков достаточно большое, чтобы их просто удалить.\n",
    "\n",
    "Пропуски в столбцах `hours` и `seats` могут быть вызваны:\n",
    "- При обработке данных произошёл технический сбой. Технические ошибки могут привести к пропускам в данных. Этот тип пропусков можно отнести к типу MCAR.\n",
    "- Заведение закрылось к моменту сбора данных и прекратило информировать пользователей о деталях работы, или владельцы не являются активными пользователями Интернета, проверить гипотезу не получится, так как нет данных о работе заведения. Этот тип пропусков можно отнести к типу MNAR.\n",
    "- Для сетевых заведений информация о часах работы может быть указана не для всех заведений. Такие пропуски можно восстановить по значениям других заведений той же сети. Этот тип пропусков можно отнести к типу MAR.\n",
    "- Заведения с особыми графиками - круглосуточные или сезонные - также могут иметь пропуск в столбце о времени работы. Стоит просмотреть, к какой категории относятся заведения.\n",
    "- Часть категорий заведений не предполагает собственных посадочных мест. Для проверки следует посмотреть, в каких категориях встречаются пропуски.\n",
    "\n",
    "Пропуски в столбцах `middle_coffee_cup` и `middle_avg_bill` нормальны и не требуют обработки, так как содержат значения, характерные не для каждой строки. \n",
    "\n",
    "Пропуски в столбцах `price` и `avg_bill` могут быть из-за недавнего открытия заведения, отсутствия меню в интернете или нестандартной ценовой политики. Такие данные заменить невозможно, поэтому следует оставить пропуски."
   ]
  },
  {
   "cell_type": "code",
   "execution_count": 14,
   "id": "d09dc9f3",
   "metadata": {},
   "outputs": [
    {
     "data": {
      "text/html": [
       "<div>\n",
       "<style scoped>\n",
       "    .dataframe tbody tr th:only-of-type {\n",
       "        vertical-align: middle;\n",
       "    }\n",
       "\n",
       "    .dataframe tbody tr th {\n",
       "        vertical-align: top;\n",
       "    }\n",
       "\n",
       "    .dataframe thead th {\n",
       "        text-align: right;\n",
       "    }\n",
       "</style>\n",
       "<table border=\"1\" class=\"dataframe\">\n",
       "  <thead>\n",
       "    <tr style=\"text-align: right;\">\n",
       "      <th></th>\n",
       "      <th>hours</th>\n",
       "      <th>seats</th>\n",
       "    </tr>\n",
       "    <tr>\n",
       "      <th>category</th>\n",
       "      <th></th>\n",
       "      <th></th>\n",
       "    </tr>\n",
       "  </thead>\n",
       "  <tbody>\n",
       "    <tr>\n",
       "      <th>бар,паб</th>\n",
       "      <td>0.023529</td>\n",
       "      <td>0.388235</td>\n",
       "    </tr>\n",
       "    <tr>\n",
       "      <th>булочная</th>\n",
       "      <td>0.027344</td>\n",
       "      <td>0.421875</td>\n",
       "    </tr>\n",
       "    <tr>\n",
       "      <th>быстрое питание</th>\n",
       "      <td>0.054726</td>\n",
       "      <td>0.421227</td>\n",
       "    </tr>\n",
       "    <tr>\n",
       "      <th>кафе</th>\n",
       "      <td>0.157696</td>\n",
       "      <td>0.487805</td>\n",
       "    </tr>\n",
       "    <tr>\n",
       "      <th>кофейня</th>\n",
       "      <td>0.010616</td>\n",
       "      <td>0.468507</td>\n",
       "    </tr>\n",
       "    <tr>\n",
       "      <th>пиццерия</th>\n",
       "      <td>0.007899</td>\n",
       "      <td>0.325434</td>\n",
       "    </tr>\n",
       "    <tr>\n",
       "      <th>ресторан</th>\n",
       "      <td>0.036221</td>\n",
       "      <td>0.378365</td>\n",
       "    </tr>\n",
       "    <tr>\n",
       "      <th>столовая</th>\n",
       "      <td>0.028571</td>\n",
       "      <td>0.479365</td>\n",
       "    </tr>\n",
       "  </tbody>\n",
       "</table>\n",
       "</div>"
      ],
      "text/plain": [
       "                    hours     seats\n",
       "category                           \n",
       "бар,паб          0.023529  0.388235\n",
       "булочная         0.027344  0.421875\n",
       "быстрое питание  0.054726  0.421227\n",
       "кафе             0.157696  0.487805\n",
       "кофейня          0.010616  0.468507\n",
       "пиццерия         0.007899  0.325434\n",
       "ресторан         0.036221  0.378365\n",
       "столовая         0.028571  0.479365"
      ]
     },
     "execution_count": 14,
     "metadata": {},
     "output_type": "execute_result"
    }
   ],
   "source": [
    "# Подсчитываем долю пропусков в столбцах hours и seats для каждой категории заведений\n",
    "df.groupby('category')[['hours', 'seats']].apply(lambda x: x.isna().mean())"
   ]
  },
  {
   "cell_type": "markdown",
   "id": "6efe43f7",
   "metadata": {},
   "source": [
    "Кафе имеет значительно больше пропусков чем остальные заведения (16% в данных о часах работы и 49% в данных о посадочных местах). \n",
    "\n",
    "В целом, пропуски обусловлены особенностями работы заведений, поэтому стоит оставить их для дальнейшего анализа."
   ]
  },
  {
   "cell_type": "code",
   "execution_count": 15,
   "id": "a3e04cbd",
   "metadata": {},
   "outputs": [
    {
     "data": {
      "text/html": [
       "<div>\n",
       "<style scoped>\n",
       "    .dataframe tbody tr th:only-of-type {\n",
       "        vertical-align: middle;\n",
       "    }\n",
       "\n",
       "    .dataframe tbody tr th {\n",
       "        vertical-align: top;\n",
       "    }\n",
       "\n",
       "    .dataframe thead th {\n",
       "        text-align: right;\n",
       "    }\n",
       "</style>\n",
       "<table border=\"1\" class=\"dataframe\">\n",
       "  <thead>\n",
       "    <tr style=\"text-align: right;\">\n",
       "      <th></th>\n",
       "      <th>hours</th>\n",
       "      <th>seats</th>\n",
       "    </tr>\n",
       "    <tr>\n",
       "      <th>chain</th>\n",
       "      <th></th>\n",
       "      <th></th>\n",
       "    </tr>\n",
       "  </thead>\n",
       "  <tbody>\n",
       "    <tr>\n",
       "      <th>0</th>\n",
       "      <td>0.080754</td>\n",
       "      <td>0.448568</td>\n",
       "    </tr>\n",
       "    <tr>\n",
       "      <th>1</th>\n",
       "      <td>0.036193</td>\n",
       "      <td>0.398752</td>\n",
       "    </tr>\n",
       "  </tbody>\n",
       "</table>\n",
       "</div>"
      ],
      "text/plain": [
       "          hours     seats\n",
       "chain                    \n",
       "0      0.080754  0.448568\n",
       "1      0.036193  0.398752"
      ]
     },
     "execution_count": 15,
     "metadata": {},
     "output_type": "execute_result"
    }
   ],
   "source": [
    "# Подсчитываем долю пропусков в столбцах hours и seats для сравнения сетевых заведений и независимых\n",
    "df.groupby('chain')[['hours', 'seats']].apply(lambda x: x.isna().mean())"
   ]
  },
  {
   "cell_type": "markdown",
   "id": "f8eaf702",
   "metadata": {},
   "source": [
    "Нет зависимости между наличием пропусков в столбцах hours и seats и принадлежности заведения к сети."
   ]
  },
  {
   "cell_type": "markdown",
   "id": "78484258",
   "metadata": {},
   "source": [
    "Далее проверим, встречаются ли в данных значения-индикаторы, которые можно рассматривать как пропуски."
   ]
  },
  {
   "cell_type": "code",
   "execution_count": 16,
   "id": "164b1ecc",
   "metadata": {},
   "outputs": [
    {
     "name": "stdout",
     "output_type": "stream",
     "text": [
      "Уникальные значения в столбце category:\n",
      "['бар,паб' 'булочная' 'быстрое питание' 'кафе' 'кофейня' 'пиццерия'\n",
      " 'ресторан' 'столовая']\n",
      "\n",
      "Уникальные значения в столбце district:\n",
      "['Восточный административный округ' 'Западный административный округ'\n",
      " 'Северный административный округ'\n",
      " 'Северо-Восточный административный округ'\n",
      " 'Северо-Западный административный округ'\n",
      " 'Центральный административный округ'\n",
      " 'Юго-Восточный административный округ'\n",
      " 'Юго-Западный административный округ' 'Южный административный округ']\n",
      "\n",
      "Уникальные значения в столбце rating:\n",
      "[1.  1.1 1.2 1.3 1.4 1.5 1.6 1.7 1.8 1.9 2.  2.1 2.2 2.3 2.4 2.5 2.6 2.7\n",
      " 2.8 2.9 3.  3.1 3.2 3.3 3.4 3.5 3.6 3.7 3.8 3.9 4.  4.1 4.2 4.3 4.4 4.5\n",
      " 4.6 4.7 4.8 4.9 5. ]\n",
      "\n",
      "Уникальные значения в столбце chain:\n",
      "[0 1]\n",
      "\n"
     ]
    }
   ],
   "source": [
    "# Проверяем уникальные значения в столбцах\n",
    "for column in ['category', 'district', 'rating', 'chain']:\n",
    "    print(f'Уникальные значения в столбце {column}:')\n",
    "    print(df[column].sort_values().unique())\n",
    "    print()"
   ]
  },
  {
   "cell_type": "markdown",
   "id": "2a789704",
   "metadata": {},
   "source": [
    "Все значения выглядят корректными. Теперь можно перейти к изучению дубликатов в данных.\n",
    "\n",
    "---"
   ]
  },
  {
   "cell_type": "markdown",
   "id": "2f8e93dc",
   "metadata": {},
   "source": [
    "### Явные и неявные дубликаты в данных\n",
    "\n",
    "Проверим данные на наличие явных и неявных дубликатов. Начнём с полных дубликатов:"
   ]
  },
  {
   "cell_type": "code",
   "execution_count": 17,
   "id": "76078030",
   "metadata": {},
   "outputs": [
    {
     "data": {
      "text/plain": [
       "0"
      ]
     },
     "execution_count": 17,
     "metadata": {},
     "output_type": "execute_result"
    }
   ],
   "source": [
    "# Проверяем полные дубликаты в датафрейме df\n",
    "df.duplicated().sum()"
   ]
  },
  {
   "cell_type": "markdown",
   "id": "e2a544dd",
   "metadata": {},
   "source": [
    "В датафрейме нет полных дубликатов строк. Проверим неявные дубликаты — значение названия и адреса заведения должны быть уникальными, то есть каждая строка в данных — уникальное заведение.\n",
    "\n",
    "Для оптимизации проверки нормализуем данные в текстовых столбцах с названием заведения."
   ]
  },
  {
   "cell_type": "code",
   "execution_count": 18,
   "id": "ade3ce90",
   "metadata": {},
   "outputs": [],
   "source": [
    "# Приводим все названия заведений к нижнему регистру и удаляем лишние пробелы\n",
    "df['name'] = df['name'].str.lower().str.strip()"
   ]
  },
  {
   "cell_type": "code",
   "execution_count": 19,
   "id": "40d42608",
   "metadata": {},
   "outputs": [
    {
     "data": {
      "text/html": [
       "<div>\n",
       "<style scoped>\n",
       "    .dataframe tbody tr th:only-of-type {\n",
       "        vertical-align: middle;\n",
       "    }\n",
       "\n",
       "    .dataframe tbody tr th {\n",
       "        vertical-align: top;\n",
       "    }\n",
       "\n",
       "    .dataframe thead th {\n",
       "        text-align: right;\n",
       "    }\n",
       "</style>\n",
       "<table border=\"1\" class=\"dataframe\">\n",
       "  <thead>\n",
       "    <tr style=\"text-align: right;\">\n",
       "      <th></th>\n",
       "      <th>id</th>\n",
       "      <th>name</th>\n",
       "      <th>category</th>\n",
       "      <th>address</th>\n",
       "      <th>district</th>\n",
       "      <th>hours</th>\n",
       "      <th>rating</th>\n",
       "      <th>chain</th>\n",
       "      <th>seats</th>\n",
       "      <th>price</th>\n",
       "      <th>avg_bill</th>\n",
       "      <th>middle_avg_bill</th>\n",
       "      <th>middle_coffee_cup</th>\n",
       "    </tr>\n",
       "  </thead>\n",
       "  <tbody>\n",
       "    <tr>\n",
       "      <th>1430</th>\n",
       "      <td>62608690e9cc464fbcd980cfd552e334</td>\n",
       "      <td>more poke</td>\n",
       "      <td>ресторан</td>\n",
       "      <td>Москва, Волоколамское шоссе, 11, стр. 2</td>\n",
       "      <td>Северный административный округ</td>\n",
       "      <td>ежедневно, 09:00–21:00</td>\n",
       "      <td>4.2</td>\n",
       "      <td>0</td>\n",
       "      <td>188.0</td>\n",
       "      <td>NaN</td>\n",
       "      <td>NaN</td>\n",
       "      <td>NaN</td>\n",
       "      <td>NaN</td>\n",
       "    </tr>\n",
       "    <tr>\n",
       "      <th>1511</th>\n",
       "      <td>a69f018d5c064873a3b491b0121bc1b4</td>\n",
       "      <td>more poke</td>\n",
       "      <td>ресторан</td>\n",
       "      <td>Москва, Волоколамское шоссе, 11, стр. 2</td>\n",
       "      <td>Северный административный округ</td>\n",
       "      <td>пн-чт 09:00–18:00; пт,сб 09:00–21:00; вс 09:00...</td>\n",
       "      <td>4.2</td>\n",
       "      <td>1</td>\n",
       "      <td>188.0</td>\n",
       "      <td>NaN</td>\n",
       "      <td>NaN</td>\n",
       "      <td>NaN</td>\n",
       "      <td>NaN</td>\n",
       "    </tr>\n",
       "    <tr>\n",
       "      <th>2211</th>\n",
       "      <td>c6ef39ae8a8c483d8f9a6531bc386a2c</td>\n",
       "      <td>раковарня клешни и хвосты</td>\n",
       "      <td>ресторан</td>\n",
       "      <td>Москва, проспект Мира, 118</td>\n",
       "      <td>Северо-Восточный административный округ</td>\n",
       "      <td>ежедневно, 12:00–00:00</td>\n",
       "      <td>4.4</td>\n",
       "      <td>0</td>\n",
       "      <td>150.0</td>\n",
       "      <td>NaN</td>\n",
       "      <td>NaN</td>\n",
       "      <td>NaN</td>\n",
       "      <td>NaN</td>\n",
       "    </tr>\n",
       "    <tr>\n",
       "      <th>2420</th>\n",
       "      <td>aba1de7ad7d64ac0a3f8684bda29d905</td>\n",
       "      <td>раковарня клешни и хвосты</td>\n",
       "      <td>бар,паб</td>\n",
       "      <td>Москва, проспект Мира, 118</td>\n",
       "      <td>Северо-Восточный административный округ</td>\n",
       "      <td>пн-чт 12:00–00:00; пт,сб 12:00–01:00; вс 12:00...</td>\n",
       "      <td>4.4</td>\n",
       "      <td>1</td>\n",
       "      <td>150.0</td>\n",
       "      <td>NaN</td>\n",
       "      <td>NaN</td>\n",
       "      <td>NaN</td>\n",
       "      <td>NaN</td>\n",
       "    </tr>\n",
       "    <tr>\n",
       "      <th>3091</th>\n",
       "      <td>3c2a73ea79a04be48858fab3685f2f37</td>\n",
       "      <td>хлеб да выпечка</td>\n",
       "      <td>булочная</td>\n",
       "      <td>Москва, Ярцевская улица, 19</td>\n",
       "      <td>Западный административный округ</td>\n",
       "      <td>ежедневно, 09:00–22:00</td>\n",
       "      <td>4.1</td>\n",
       "      <td>1</td>\n",
       "      <td>276.0</td>\n",
       "      <td>NaN</td>\n",
       "      <td>NaN</td>\n",
       "      <td>NaN</td>\n",
       "      <td>NaN</td>\n",
       "    </tr>\n",
       "    <tr>\n",
       "      <th>3109</th>\n",
       "      <td>d3116844e4e048f99614eb30be3214e0</td>\n",
       "      <td>хлеб да выпечка</td>\n",
       "      <td>кафе</td>\n",
       "      <td>Москва, Ярцевская улица, 19</td>\n",
       "      <td>Западный административный округ</td>\n",
       "      <td>NaN</td>\n",
       "      <td>4.1</td>\n",
       "      <td>0</td>\n",
       "      <td>276.0</td>\n",
       "      <td>NaN</td>\n",
       "      <td>NaN</td>\n",
       "      <td>NaN</td>\n",
       "      <td>NaN</td>\n",
       "    </tr>\n",
       "  </tbody>\n",
       "</table>\n",
       "</div>"
      ],
      "text/plain": [
       "                                    id                       name  category  \\\n",
       "1430  62608690e9cc464fbcd980cfd552e334                  more poke  ресторан   \n",
       "1511  a69f018d5c064873a3b491b0121bc1b4                  more poke  ресторан   \n",
       "2211  c6ef39ae8a8c483d8f9a6531bc386a2c  раковарня клешни и хвосты  ресторан   \n",
       "2420  aba1de7ad7d64ac0a3f8684bda29d905  раковарня клешни и хвосты   бар,паб   \n",
       "3091  3c2a73ea79a04be48858fab3685f2f37            хлеб да выпечка  булочная   \n",
       "3109  d3116844e4e048f99614eb30be3214e0            хлеб да выпечка      кафе   \n",
       "\n",
       "                                      address  \\\n",
       "1430  Москва, Волоколамское шоссе, 11, стр. 2   \n",
       "1511  Москва, Волоколамское шоссе, 11, стр. 2   \n",
       "2211               Москва, проспект Мира, 118   \n",
       "2420               Москва, проспект Мира, 118   \n",
       "3091              Москва, Ярцевская улица, 19   \n",
       "3109              Москва, Ярцевская улица, 19   \n",
       "\n",
       "                                     district  \\\n",
       "1430          Северный административный округ   \n",
       "1511          Северный административный округ   \n",
       "2211  Северо-Восточный административный округ   \n",
       "2420  Северо-Восточный административный округ   \n",
       "3091          Западный административный округ   \n",
       "3109          Западный административный округ   \n",
       "\n",
       "                                                  hours  rating  chain  seats  \\\n",
       "1430                             ежедневно, 09:00–21:00     4.2      0  188.0   \n",
       "1511  пн-чт 09:00–18:00; пт,сб 09:00–21:00; вс 09:00...     4.2      1  188.0   \n",
       "2211                             ежедневно, 12:00–00:00     4.4      0  150.0   \n",
       "2420  пн-чт 12:00–00:00; пт,сб 12:00–01:00; вс 12:00...     4.4      1  150.0   \n",
       "3091                             ежедневно, 09:00–22:00     4.1      1  276.0   \n",
       "3109                                                NaN     4.1      0  276.0   \n",
       "\n",
       "     price avg_bill  middle_avg_bill  middle_coffee_cup  \n",
       "1430   NaN      NaN              NaN                NaN  \n",
       "1511   NaN      NaN              NaN                NaN  \n",
       "2211   NaN      NaN              NaN                NaN  \n",
       "2420   NaN      NaN              NaN                NaN  \n",
       "3091   NaN      NaN              NaN                NaN  \n",
       "3109   NaN      NaN              NaN                NaN  "
      ]
     },
     "execution_count": 19,
     "metadata": {},
     "output_type": "execute_result"
    }
   ],
   "source": [
    "# Выводим неявные дубликаты по полям с названием и адресом заведения\n",
    "df[df.duplicated(subset = ['name', 'address'], keep = False)]"
   ]
  },
  {
   "cell_type": "markdown",
   "id": "d55c0696",
   "metadata": {},
   "source": [
    "В данных есть 3 пары дубликатов, оставляем корректные значения из каждой пары."
   ]
  },
  {
   "cell_type": "code",
   "execution_count": 20,
   "id": "87096e3a",
   "metadata": {},
   "outputs": [
    {
     "data": {
      "text/html": [
       "<div>\n",
       "<style scoped>\n",
       "    .dataframe tbody tr th:only-of-type {\n",
       "        vertical-align: middle;\n",
       "    }\n",
       "\n",
       "    .dataframe tbody tr th {\n",
       "        vertical-align: top;\n",
       "    }\n",
       "\n",
       "    .dataframe thead th {\n",
       "        text-align: right;\n",
       "    }\n",
       "</style>\n",
       "<table border=\"1\" class=\"dataframe\">\n",
       "  <thead>\n",
       "    <tr style=\"text-align: right;\">\n",
       "      <th></th>\n",
       "      <th>id</th>\n",
       "      <th>name</th>\n",
       "      <th>category</th>\n",
       "      <th>address</th>\n",
       "      <th>district</th>\n",
       "      <th>hours</th>\n",
       "      <th>rating</th>\n",
       "      <th>chain</th>\n",
       "      <th>seats</th>\n",
       "      <th>price</th>\n",
       "      <th>avg_bill</th>\n",
       "      <th>middle_avg_bill</th>\n",
       "      <th>middle_coffee_cup</th>\n",
       "    </tr>\n",
       "  </thead>\n",
       "  <tbody>\n",
       "    <tr>\n",
       "      <th>0</th>\n",
       "      <td>0c3e3439a8c64ea5bf6ecd6ca6ae19f0</td>\n",
       "      <td>wowфли</td>\n",
       "      <td>кафе</td>\n",
       "      <td>Москва, улица Дыбенко, 7/1</td>\n",
       "      <td>Северный административный округ</td>\n",
       "      <td>ежедневно, 10:00–22:00</td>\n",
       "      <td>5.0</td>\n",
       "      <td>0</td>\n",
       "      <td>NaN</td>\n",
       "      <td>NaN</td>\n",
       "      <td>NaN</td>\n",
       "      <td>NaN</td>\n",
       "      <td>NaN</td>\n",
       "    </tr>\n",
       "    <tr>\n",
       "      <th>1</th>\n",
       "      <td>045780ada3474c57a2112e505d74b633</td>\n",
       "      <td>четыре комнаты</td>\n",
       "      <td>ресторан</td>\n",
       "      <td>Москва, улица Дыбенко, 36, корп. 1</td>\n",
       "      <td>Северный административный округ</td>\n",
       "      <td>ежедневно, 10:00–22:00</td>\n",
       "      <td>4.5</td>\n",
       "      <td>0</td>\n",
       "      <td>4.0</td>\n",
       "      <td>выше среднего</td>\n",
       "      <td>Средний счёт:1500–1600 ₽</td>\n",
       "      <td>1550.0</td>\n",
       "      <td>NaN</td>\n",
       "    </tr>\n",
       "    <tr>\n",
       "      <th>2</th>\n",
       "      <td>1070b6b59144425896c65889347fcff6</td>\n",
       "      <td>хазри</td>\n",
       "      <td>кафе</td>\n",
       "      <td>Москва, Клязьминская улица, 15</td>\n",
       "      <td>Северный административный округ</td>\n",
       "      <td>пн-чт 11:00–02:00; пт,сб 11:00–05:00; вс 11:00...</td>\n",
       "      <td>4.6</td>\n",
       "      <td>0</td>\n",
       "      <td>45.0</td>\n",
       "      <td>средние</td>\n",
       "      <td>Средний счёт:от 1000 ₽</td>\n",
       "      <td>1000.0</td>\n",
       "      <td>NaN</td>\n",
       "    </tr>\n",
       "    <tr>\n",
       "      <th>3</th>\n",
       "      <td>03ac7cd772104f65b58b349dc59f03ee</td>\n",
       "      <td>dormouse coffee shop</td>\n",
       "      <td>кофейня</td>\n",
       "      <td>Москва, улица Маршала Федоренко, 12</td>\n",
       "      <td>Северный административный округ</td>\n",
       "      <td>ежедневно, 09:00–22:00</td>\n",
       "      <td>5.0</td>\n",
       "      <td>0</td>\n",
       "      <td>NaN</td>\n",
       "      <td>NaN</td>\n",
       "      <td>Цена чашки капучино:155–185 ₽</td>\n",
       "      <td>NaN</td>\n",
       "      <td>170.0</td>\n",
       "    </tr>\n",
       "    <tr>\n",
       "      <th>4</th>\n",
       "      <td>a163aada139c4c7f87b0b1c0b466a50f</td>\n",
       "      <td>иль марко</td>\n",
       "      <td>пиццерия</td>\n",
       "      <td>Москва, Правобережная улица, 1Б</td>\n",
       "      <td>Северный административный округ</td>\n",
       "      <td>ежедневно, 10:00–22:00</td>\n",
       "      <td>5.0</td>\n",
       "      <td>1</td>\n",
       "      <td>148.0</td>\n",
       "      <td>средние</td>\n",
       "      <td>Средний счёт:400–600 ₽</td>\n",
       "      <td>500.0</td>\n",
       "      <td>NaN</td>\n",
       "    </tr>\n",
       "    <tr>\n",
       "      <th>...</th>\n",
       "      <td>...</td>\n",
       "      <td>...</td>\n",
       "      <td>...</td>\n",
       "      <td>...</td>\n",
       "      <td>...</td>\n",
       "      <td>...</td>\n",
       "      <td>...</td>\n",
       "      <td>...</td>\n",
       "      <td>...</td>\n",
       "      <td>...</td>\n",
       "      <td>...</td>\n",
       "      <td>...</td>\n",
       "      <td>...</td>\n",
       "    </tr>\n",
       "    <tr>\n",
       "      <th>8401</th>\n",
       "      <td>0342ad1a45ed41ba89dcba246a8267e5</td>\n",
       "      <td>суши мания</td>\n",
       "      <td>кафе</td>\n",
       "      <td>Москва, Профсоюзная улица, 56</td>\n",
       "      <td>Юго-Западный административный округ</td>\n",
       "      <td>ежедневно, 09:00–02:00</td>\n",
       "      <td>4.4</td>\n",
       "      <td>0</td>\n",
       "      <td>86.0</td>\n",
       "      <td>NaN</td>\n",
       "      <td>NaN</td>\n",
       "      <td>NaN</td>\n",
       "      <td>NaN</td>\n",
       "    </tr>\n",
       "    <tr>\n",
       "      <th>8402</th>\n",
       "      <td>ee6bb7c3650e47bd8186fca08eda1091</td>\n",
       "      <td>миславнес</td>\n",
       "      <td>кафе</td>\n",
       "      <td>Москва, Пролетарский проспект, 19, корп. 1</td>\n",
       "      <td>Южный административный округ</td>\n",
       "      <td>ежедневно, 08:00–22:00</td>\n",
       "      <td>4.8</td>\n",
       "      <td>0</td>\n",
       "      <td>150.0</td>\n",
       "      <td>NaN</td>\n",
       "      <td>NaN</td>\n",
       "      <td>NaN</td>\n",
       "      <td>NaN</td>\n",
       "    </tr>\n",
       "    <tr>\n",
       "      <th>8403</th>\n",
       "      <td>62e8c64d4c89467aba608e39ef87616b</td>\n",
       "      <td>самовар</td>\n",
       "      <td>кафе</td>\n",
       "      <td>Москва, Люблинская улица, 112А, стр. 1</td>\n",
       "      <td>Юго-Восточный административный округ</td>\n",
       "      <td>ежедневно, круглосуточно</td>\n",
       "      <td>3.9</td>\n",
       "      <td>0</td>\n",
       "      <td>150.0</td>\n",
       "      <td>NaN</td>\n",
       "      <td>Средний счёт:от 150 ₽</td>\n",
       "      <td>150.0</td>\n",
       "      <td>NaN</td>\n",
       "    </tr>\n",
       "    <tr>\n",
       "      <th>8404</th>\n",
       "      <td>06a0db5ecd4842d48cd6350aa923e297</td>\n",
       "      <td>чайхана sabr</td>\n",
       "      <td>кафе</td>\n",
       "      <td>Москва, Люблинская улица, 112А, стр. 1</td>\n",
       "      <td>Юго-Восточный административный округ</td>\n",
       "      <td>ежедневно, круглосуточно</td>\n",
       "      <td>4.2</td>\n",
       "      <td>1</td>\n",
       "      <td>150.0</td>\n",
       "      <td>NaN</td>\n",
       "      <td>NaN</td>\n",
       "      <td>NaN</td>\n",
       "      <td>NaN</td>\n",
       "    </tr>\n",
       "    <tr>\n",
       "      <th>8405</th>\n",
       "      <td>9d56f8f7a7f74df1a925bc0fd2de8aae</td>\n",
       "      <td>kebab time</td>\n",
       "      <td>кафе</td>\n",
       "      <td>Москва, Россошанский проезд, 6</td>\n",
       "      <td>Южный административный округ</td>\n",
       "      <td>ежедневно, круглосуточно</td>\n",
       "      <td>3.9</td>\n",
       "      <td>0</td>\n",
       "      <td>12.0</td>\n",
       "      <td>NaN</td>\n",
       "      <td>NaN</td>\n",
       "      <td>NaN</td>\n",
       "      <td>NaN</td>\n",
       "    </tr>\n",
       "  </tbody>\n",
       "</table>\n",
       "<p>8403 rows × 13 columns</p>\n",
       "</div>"
      ],
      "text/plain": [
       "                                    id                  name  category  \\\n",
       "0     0c3e3439a8c64ea5bf6ecd6ca6ae19f0                wowфли      кафе   \n",
       "1     045780ada3474c57a2112e505d74b633        четыре комнаты  ресторан   \n",
       "2     1070b6b59144425896c65889347fcff6                 хазри      кафе   \n",
       "3     03ac7cd772104f65b58b349dc59f03ee  dormouse coffee shop   кофейня   \n",
       "4     a163aada139c4c7f87b0b1c0b466a50f             иль марко  пиццерия   \n",
       "...                                ...                   ...       ...   \n",
       "8401  0342ad1a45ed41ba89dcba246a8267e5            суши мания      кафе   \n",
       "8402  ee6bb7c3650e47bd8186fca08eda1091             миславнес      кафе   \n",
       "8403  62e8c64d4c89467aba608e39ef87616b               самовар      кафе   \n",
       "8404  06a0db5ecd4842d48cd6350aa923e297          чайхана sabr      кафе   \n",
       "8405  9d56f8f7a7f74df1a925bc0fd2de8aae            kebab time      кафе   \n",
       "\n",
       "                                         address  \\\n",
       "0                     Москва, улица Дыбенко, 7/1   \n",
       "1             Москва, улица Дыбенко, 36, корп. 1   \n",
       "2                 Москва, Клязьминская улица, 15   \n",
       "3            Москва, улица Маршала Федоренко, 12   \n",
       "4                Москва, Правобережная улица, 1Б   \n",
       "...                                          ...   \n",
       "8401               Москва, Профсоюзная улица, 56   \n",
       "8402  Москва, Пролетарский проспект, 19, корп. 1   \n",
       "8403      Москва, Люблинская улица, 112А, стр. 1   \n",
       "8404      Москва, Люблинская улица, 112А, стр. 1   \n",
       "8405              Москва, Россошанский проезд, 6   \n",
       "\n",
       "                                  district  \\\n",
       "0          Северный административный округ   \n",
       "1          Северный административный округ   \n",
       "2          Северный административный округ   \n",
       "3          Северный административный округ   \n",
       "4          Северный административный округ   \n",
       "...                                    ...   \n",
       "8401   Юго-Западный административный округ   \n",
       "8402          Южный административный округ   \n",
       "8403  Юго-Восточный административный округ   \n",
       "8404  Юго-Восточный административный округ   \n",
       "8405          Южный административный округ   \n",
       "\n",
       "                                                  hours  rating  chain  seats  \\\n",
       "0                                ежедневно, 10:00–22:00     5.0      0    NaN   \n",
       "1                                ежедневно, 10:00–22:00     4.5      0    4.0   \n",
       "2     пн-чт 11:00–02:00; пт,сб 11:00–05:00; вс 11:00...     4.6      0   45.0   \n",
       "3                                ежедневно, 09:00–22:00     5.0      0    NaN   \n",
       "4                                ежедневно, 10:00–22:00     5.0      1  148.0   \n",
       "...                                                 ...     ...    ...    ...   \n",
       "8401                             ежедневно, 09:00–02:00     4.4      0   86.0   \n",
       "8402                             ежедневно, 08:00–22:00     4.8      0  150.0   \n",
       "8403                           ежедневно, круглосуточно     3.9      0  150.0   \n",
       "8404                           ежедневно, круглосуточно     4.2      1  150.0   \n",
       "8405                           ежедневно, круглосуточно     3.9      0   12.0   \n",
       "\n",
       "              price                       avg_bill  middle_avg_bill  \\\n",
       "0               NaN                            NaN              NaN   \n",
       "1     выше среднего       Средний счёт:1500–1600 ₽           1550.0   \n",
       "2           средние         Средний счёт:от 1000 ₽           1000.0   \n",
       "3               NaN  Цена чашки капучино:155–185 ₽              NaN   \n",
       "4           средние         Средний счёт:400–600 ₽            500.0   \n",
       "...             ...                            ...              ...   \n",
       "8401            NaN                            NaN              NaN   \n",
       "8402            NaN                            NaN              NaN   \n",
       "8403            NaN          Средний счёт:от 150 ₽            150.0   \n",
       "8404            NaN                            NaN              NaN   \n",
       "8405            NaN                            NaN              NaN   \n",
       "\n",
       "      middle_coffee_cup  \n",
       "0                   NaN  \n",
       "1                   NaN  \n",
       "2                   NaN  \n",
       "3                 170.0  \n",
       "4                   NaN  \n",
       "...                 ...  \n",
       "8401                NaN  \n",
       "8402                NaN  \n",
       "8403                NaN  \n",
       "8404                NaN  \n",
       "8405                NaN  \n",
       "\n",
       "[8403 rows x 13 columns]"
      ]
     },
     "execution_count": 20,
     "metadata": {},
     "output_type": "execute_result"
    }
   ],
   "source": [
    "# Удаляем строки с некорректными значениями по индексам\n",
    "df.drop([1511, 2211, 3109])"
   ]
  },
  {
   "cell_type": "markdown",
   "id": "22c7a5b8",
   "metadata": {},
   "source": [
    "Неявные дубликаты удалены."
   ]
  },
  {
   "cell_type": "markdown",
   "id": "a89982fe",
   "metadata": {},
   "source": [
    "Для дальнейшей работы выделим новый столбец `is_24_7` с обозначением того, что заведение работает ежедневно и круглосуточно, то есть 24/7."
   ]
  },
  {
   "cell_type": "code",
   "execution_count": 21,
   "id": "fa831c1f",
   "metadata": {},
   "outputs": [],
   "source": [
    "# Определяем функцию, которая создаст новый столбец в зависимости от времени работы заведения\n",
    "def create_24_7(x):\n",
    "    return (str(x) == 'ежедневно, круглосуточно') "
   ]
  },
  {
   "cell_type": "code",
   "execution_count": 22,
   "id": "9cfa73b0",
   "metadata": {},
   "outputs": [],
   "source": [
    "# Создаём столбец is_24_7 с помощью функции create_24_7\n",
    "df['is_24_7'] = df['hours'].apply(create_24_7)"
   ]
  },
  {
   "cell_type": "code",
   "execution_count": 23,
   "id": "27e90380",
   "metadata": {},
   "outputs": [
    {
     "data": {
      "text/plain": [
       "False    0.913157\n",
       "True     0.086843\n",
       "Name: is_24_7, dtype: float64"
      ]
     },
     "execution_count": 23,
     "metadata": {},
     "output_type": "execute_result"
    }
   ],
   "source": [
    "# Проверям, какие значения принимает столбец is_24_7\n",
    "df['is_24_7'].value_counts(normalize = True)"
   ]
  },
  {
   "cell_type": "markdown",
   "id": "b775f7f8",
   "metadata": {},
   "source": [
    "### Промежуточные выводы после предобработки\n",
    "\n",
    "Предобработка завершена. Предоставленные данные хорошего качества и требуют не так много действий по предобработке. \n",
    "\n",
    "В результате предобработки данных были выполнены следующие действия:\n",
    "\n",
    "- Объедини данные в единый датафрейм df;\n",
    "- Оптимизировали размерность целочисленных данных;\n",
    "- Изучены пропуски в данных. Пропуски обнаружились в столбцах `hours` - 6% данных; `seats` - 43% данных; `price` - 61% данных; `avg_bill` 55% данных; `middle_avg_bill` - 63% данных; `middle_coffee_cup` - 94% данных. Учитывая это количество, пропуски могут отражать особенности общественных заведений питания и не являться ошибкой в данных. Поэтому их оставили как есть.\n",
    "- Данные проверили на явные и неявные дубликаты — удалены 3 строки с неявными дубликатами.\n",
    "\n",
    "---"
   ]
  },
  {
   "cell_type": "markdown",
   "id": "b3487f23",
   "metadata": {},
   "source": [
    "## Исследовательский анализ данных\n"
   ]
  },
  {
   "cell_type": "markdown",
   "id": "f1b8cbb3",
   "metadata": {},
   "source": [
    "### Какие категории заведений представлены в данных?\n",
    "\n"
   ]
  },
  {
   "cell_type": "code",
   "execution_count": 24,
   "id": "d2e78dfd",
   "metadata": {},
   "outputs": [
    {
     "data": {
      "text/plain": [
       "кафе               2378\n",
       "ресторан           2043\n",
       "кофейня            1413\n",
       "бар,паб             765\n",
       "пиццерия            633\n",
       "быстрое питание     603\n",
       "столовая            315\n",
       "булочная            256\n",
       "Name: category, dtype: int64"
      ]
     },
     "execution_count": 24,
     "metadata": {},
     "output_type": "execute_result"
    }
   ],
   "source": [
    "# Выводим распределение данных по значениям столбца category\n",
    "df['category'].value_counts()"
   ]
  },
  {
   "cell_type": "code",
   "execution_count": 25,
   "id": "1e0cb4b0",
   "metadata": {},
   "outputs": [
    {
     "data": {
      "image/png": "[encoded data removed]",
      "text/plain": [
       "<Figure size 720x432 with 1 Axes>"
      ]
     },
     "metadata": {
      "needs_background": "light"
     },
     "output_type": "display_data"
    }
   ],
   "source": [
    "# Создаём контейнер графика matplotlib и задаём его размер\n",
    "plt.figure(figsize = (10, 6))\n",
    "\n",
    "# Строим столбчатую диаграмму с помощью pandas\n",
    "df['category'].value_counts().plot(\n",
    "                kind = 'bar',\n",
    "                rot = 30,\n",
    "                title = 'Распределение заведений по категориям',\n",
    "                color = '#FF82A9',\n",
    "                edgecolor='black')\n",
    "\n",
    "# Настраиваем оформление графика\n",
    "plt.ylabel('Количество заведений')\n",
    "plt.xlabel('Категория заведения')\n",
    "\n",
    "# Выводим график\n",
    "plt.show()"
   ]
  },
  {
   "cell_type": "markdown",
   "id": "4cdb29db",
   "metadata": {},
   "source": [
    "Всего в данных представлено 8 категорий заведений общественного питания. Наиболее распространённые - **кафе** (2378), **ресторан** (2043) и **кофейня** (1413)."
   ]
  },
  {
   "cell_type": "markdown",
   "id": "00cfd71b",
   "metadata": {},
   "source": [
    "### Какие административные районы Москвы присутствуют в данных?"
   ]
  },
  {
   "cell_type": "code",
   "execution_count": 26,
   "id": "d2a4af93",
   "metadata": {},
   "outputs": [
    {
     "data": {
      "text/plain": [
       "Центральный административный округ         2242\n",
       "Северный административный округ             900\n",
       "Южный административный округ                892\n",
       "Северо-Восточный административный округ     891\n",
       "Западный административный округ             851\n",
       "Восточный административный округ            798\n",
       "Юго-Восточный административный округ        714\n",
       "Юго-Западный административный округ         709\n",
       "Северо-Западный административный округ      409\n",
       "Name: district, dtype: int64"
      ]
     },
     "execution_count": 26,
     "metadata": {},
     "output_type": "execute_result"
    }
   ],
   "source": [
    "# Выводим распределение данных по значениям столбца district\n",
    "df['district'].value_counts().sort_values(ascending = False)"
   ]
  },
  {
   "cell_type": "code",
   "execution_count": 27,
   "id": "09b20e0f",
   "metadata": {},
   "outputs": [
    {
     "data": {
      "image/png": "[encoded data removed]",
      "text/plain": [
       "<Figure size 720x432 with 1 Axes>"
      ]
     },
     "metadata": {
      "needs_background": "light"
     },
     "output_type": "display_data"
    }
   ],
   "source": [
    "# Создаём контейнер графика matplotlib и задаём его размер\n",
    "plt.figure(figsize = (10, 6))\n",
    "\n",
    "# Строим столбчатую диаграмму с помощью pandas\n",
    "df['district'].value_counts().sort_values().plot(\n",
    "                kind = 'barh',\n",
    "                title = 'Распределение заведений в зависимости от расположения',\n",
    "                color = '#FF82A9',\n",
    "                edgecolor='black')\n",
    "\n",
    "# Настраиваем оформление графика\n",
    "plt.ylabel('Административный район Москвы')\n",
    "plt.xlabel('Количество заведений')\n",
    "\n",
    "# Выводим график\n",
    "plt.show()"
   ]
  },
  {
   "cell_type": "markdown",
   "id": "7b1380db",
   "metadata": {},
   "source": [
    "Всего в данных содержится 9 административных округов Москвы. В **Центральном административном округе** (2242) находится значительно больше заведений - примерно в 3 раза больше, чем в остальных регионах. Также среди остальных выделяется **Северо-Западный административный округ** (409) - в нем в 2 раза меньше заведений, чем в среднем по районам."
   ]
  },
  {
   "cell_type": "code",
   "execution_count": 28,
   "id": "2ad9f998",
   "metadata": {},
   "outputs": [
    {
     "data": {
      "text/plain": [
       "ресторан           670\n",
       "кафе               464\n",
       "кофейня            428\n",
       "бар,паб            364\n",
       "пиццерия           113\n",
       "быстрое питание     87\n",
       "столовая            66\n",
       "булочная            50\n",
       "Name: category, dtype: int64"
      ]
     },
     "execution_count": 28,
     "metadata": {},
     "output_type": "execute_result"
    }
   ],
   "source": [
    "# Исследуем распределение заведений каждой категории в Центральном административном округе Москвы\n",
    "df[df['district'] == 'Центральный административный округ']['category'].value_counts()"
   ]
  },
  {
   "cell_type": "code",
   "execution_count": 29,
   "id": "e0a27fa7",
   "metadata": {},
   "outputs": [
    {
     "data": {
      "image/png": "[encoded data removed]",
      "text/plain": [
       "<Figure size 720x432 with 1 Axes>"
      ]
     },
     "metadata": {
      "needs_background": "light"
     },
     "output_type": "display_data"
    }
   ],
   "source": [
    "# Создаём контейнер графика matplotlib и задаём его размер\n",
    "plt.figure(figsize = (10, 6))\n",
    "\n",
    "# Строим столбчатую диаграмму с помощью pandas\n",
    "df[df['district'] == 'Центральный административный округ']['category'].value_counts().plot(\n",
    "                kind = 'bar',\n",
    "                rot = 30,\n",
    "                title = 'Распределение заведений Центрального административного округа по категориям',\n",
    "                color = '#FF82A9',\n",
    "                edgecolor='black')\n",
    "\n",
    "# Настраиваем оформление графика\n",
    "plt.ylabel('Количество заведений')\n",
    "plt.xlabel('Категория заведения')\n",
    "\n",
    "# Выводим график\n",
    "plt.show()"
   ]
  },
  {
   "cell_type": "markdown",
   "id": "27ae6e54",
   "metadata": {},
   "source": [
    "В ЦАО среди заведений общественного питания преобладают **рестораны** (670), также есть большое количество **кафе** (464), **кофеен** (428), **баров, пабов** (364)."
   ]
  },
  {
   "cell_type": "markdown",
   "id": "f6b9a085",
   "metadata": {},
   "source": [
    "### Каких заведений больше — сетевых или несетевых? Какие категории заведений чаще являются сетевыми?"
   ]
  },
  {
   "cell_type": "code",
   "execution_count": 30,
   "id": "572f00a6",
   "metadata": {},
   "outputs": [
    {
     "data": {
      "text/plain": [
       "0    0.618725\n",
       "1    0.381275\n",
       "Name: chain, dtype: float64"
      ]
     },
     "execution_count": 30,
     "metadata": {},
     "output_type": "execute_result"
    }
   ],
   "source": [
    "# Выводим распределение сетевых/несетевых заведений в долях \n",
    "df['chain'].value_counts(normalize = True)"
   ]
  },
  {
   "cell_type": "code",
   "execution_count": 31,
   "id": "53fb724f",
   "metadata": {},
   "outputs": [
    {
     "data": {
      "image/png": "[encoded data removed]",
      "text/plain": [
       "<Figure size 720x360 with 1 Axes>"
      ]
     },
     "metadata": {},
     "output_type": "display_data"
    }
   ],
   "source": [
    "# Создаём контейнер графика matplotlib и задаём его размер\n",
    "plt.figure(figsize=(10, 5))\n",
    "\n",
    "# Строим столбчатую диаграмму с помощью pandas \n",
    "df['chain'].value_counts(normalize=True).plot(\n",
    "               kind='pie', # Тип графика — столбчатая диаграмма\n",
    "               legend=True, # Включаем легенду\n",
    "               title=f'Распределение сетевых/несетевых заведений'\n",
    ")\n",
    "\n",
    "# Настраиваем оформление графика\n",
    "plt.xlabel('Является ли заведение сетевым (0 - не является, 1 - является)')\n",
    "plt.ylabel('Доля клиентов')\n",
    "\n",
    "# Выводим график\n",
    "plt.show()"
   ]
  },
  {
   "cell_type": "markdown",
   "id": "6d746799",
   "metadata": {},
   "source": [
    "Большинство заведений (62%) **не** являются **сетевыми**."
   ]
  },
  {
   "cell_type": "code",
   "execution_count": 32,
   "id": "fafc80c6",
   "metadata": {},
   "outputs": [
    {
     "data": {
      "text/plain": [
       "category         chain\n",
       "бар,паб          0        0.779085\n",
       "                 1        0.220915\n",
       "булочная         1        0.613281\n",
       "                 0        0.386719\n",
       "быстрое питание  0        0.615257\n",
       "                 1        0.384743\n",
       "кафе             0        0.672414\n",
       "                 1        0.327586\n",
       "кофейня          1        0.509554\n",
       "                 0        0.490446\n",
       "пиццерия         1        0.521327\n",
       "                 0        0.478673\n",
       "ресторан         0        0.642682\n",
       "                 1        0.357318\n",
       "столовая         0        0.720635\n",
       "                 1        0.279365\n",
       "Name: chain, dtype: float64"
      ]
     },
     "execution_count": 32,
     "metadata": {},
     "output_type": "execute_result"
    }
   ],
   "source": [
    "# Выводим распределение сетевых/несетевых заведений в долях для каждой категории\n",
    "df.groupby('category')['chain'].value_counts(normalize = True)"
   ]
  },
  {
   "cell_type": "code",
   "execution_count": 33,
   "id": "43d88e68",
   "metadata": {},
   "outputs": [
    {
     "data": {
      "image/png": "[encoded data removed]",
      "text/plain": [
       "<Figure size 720x360 with 1 Axes>"
      ]
     },
     "metadata": {
      "needs_background": "light"
     },
     "output_type": "display_data"
    }
   ],
   "source": [
    "# Строим график столбчатой диаграммы\n",
    "grouped = df.groupby('category')['chain'].mean().sort_values(ascending=False)\n",
    "grouped.plot(kind='bar',\n",
    "               title=f'Распределение доли сетевых заведений в зависимости от категории заведения',\n",
    "               legend=True,\n",
    "               ylabel='Доля сетевых заведений',\n",
    "               xlabel='Категория заведения',\n",
    "               rot=30,\n",
    "               figsize=(10, 5))\n",
    "\n",
    "# Рассчитываем среднее значение по доле сестевых заведений\n",
    "mean_churn_share = df['chain'].mean()\n",
    "\n",
    "# Наносим на график линию с средним значением доли сетевых заведений\n",
    "plt.axhline(mean_churn_share, # Данные, по которым строится линия\n",
    "            color='red', # Цвет линии\n",
    "            linestyle='--', # Стиль линии\n",
    "            linewidth=1, # Ширина линии\n",
    "            label=f'Доля сетевых заведений {round(mean_churn_share,4)}')\n",
    "\n",
    "# Добавляем сетку и легенду\n",
    "plt.grid()\n",
    "plt.legend()\n",
    "\n",
    "# Выводим график\n",
    "plt.show()"
   ]
  },
  {
   "cell_type": "markdown",
   "id": "be30bdb4",
   "metadata": {},
   "source": [
    "Заметно больше сетевых заведений среди **булочных** (61%), **пиццерий** (52%) и **кофеен** (51%). Сильно реже среднего сетевыми являются **бары, пабы** (22%), **столовые** (28%)."
   ]
  },
  {
   "cell_type": "markdown",
   "id": "599f4d09",
   "metadata": {},
   "source": [
    "### Исследование количества посадочных мест в заведениях."
   ]
  },
  {
   "cell_type": "code",
   "execution_count": 34,
   "id": "f6e3cd06",
   "metadata": {},
   "outputs": [
    {
     "data": {
      "text/plain": [
       "count    4795.000000\n",
       "mean      108.421689\n",
       "std       122.833396\n",
       "min         0.000000\n",
       "25%        40.000000\n",
       "50%        75.000000\n",
       "75%       140.000000\n",
       "max      1288.000000\n",
       "Name: seats, dtype: float64"
      ]
     },
     "execution_count": 34,
     "metadata": {},
     "output_type": "execute_result"
    }
   ],
   "source": [
    "# Основные статистические показатели столбца seats\n",
    "df['seats'].describe()"
   ]
  },
  {
   "cell_type": "markdown",
   "id": "01d6a04d",
   "metadata": {},
   "source": [
    "Среднее количество посадочных мест - 108, медиана - 75, максимум - 1288, минимум - 0, стандартное отклонение - 123.\n",
    "В данных содержатся аномальные значения."
   ]
  },
  {
   "cell_type": "code",
   "execution_count": 35,
   "id": "c17ca610",
   "metadata": {},
   "outputs": [
    {
     "data": {
      "image/png": "[encoded data removed]",
      "text/plain": [
       "<Figure size 720x360 with 1 Axes>"
      ]
     },
     "metadata": {
      "needs_background": "light"
     },
     "output_type": "display_data"
    }
   ],
   "source": [
    "# Создаём контейнер графика matplotlib и задаём его размер\n",
    "plt.figure(figsize = (10, 5))\n",
    "\n",
    "# Строим гистограмму с помощью pandas\n",
    "df['seats'].plot(\n",
    "            kind = 'hist',\n",
    "            bins = 30,\n",
    "            edgecolor = 'black',\n",
    "            color = '#FF82A9')\n",
    "\n",
    "# Настраиваем оформление графика\n",
    "plt.title('Распределение количества посадочных мест в заведении')\n",
    "plt.xlabel('Количество посадочных мест')\n",
    "plt.ylabel('Частота')\n",
    "\n",
    "# Добавляем сетку\n",
    "plt.grid()\n",
    "\n",
    "# Выводим график\n",
    "plt.show()"
   ]
  },
  {
   "cell_type": "code",
   "execution_count": 36,
   "id": "44a24dd4",
   "metadata": {},
   "outputs": [
    {
     "data": {
      "image/png": "[encoded data removed]",
      "text/plain": [
       "<Figure size 432x288 with 1 Axes>"
      ]
     },
     "metadata": {
      "needs_background": "light"
     },
     "output_type": "display_data"
    }
   ],
   "source": [
    "# Строим диаграмму размаха значений в столбце seats\n",
    "df.boxplot(column = 'seats', vert = False)\n",
    "\n",
    "# Добавляем заголовок и метки оси\n",
    "plt.title('Распределение количества посадочных мест в заведениях')\n",
    "plt.xlabel('Количество посадочных мест')\n",
    "\n",
    "# Выводим график\n",
    "plt.show()"
   ]
  },
  {
   "cell_type": "markdown",
   "id": "0296e0b7",
   "metadata": {},
   "source": [
    "В данных содержится большое количество аномальных значений - более 400 посадочных мест. Это могут быть фудкорты/столовые в больших компаниях или ошибки при вводе данных."
   ]
  },
  {
   "cell_type": "code",
   "execution_count": 37,
   "id": "29b5df3d",
   "metadata": {},
   "outputs": [
    {
     "data": {
      "text/plain": [
       "category\n",
       "булочная           50.0\n",
       "пиццерия           55.0\n",
       "кафе               60.0\n",
       "быстрое питание    65.0\n",
       "столовая           75.5\n",
       "кофейня            80.0\n",
       "бар,паб            82.5\n",
       "ресторан           86.0\n",
       "Name: seats, dtype: float64"
      ]
     },
     "execution_count": 37,
     "metadata": {},
     "output_type": "execute_result"
    }
   ],
   "source": [
    "# Выводим медианы количества мест для разных типов заведений\n",
    "df.groupby('category')['seats'].agg(lambda x: x.median()).sort_values()"
   ]
  },
  {
   "cell_type": "code",
   "execution_count": 38,
   "id": "5a20cbed",
   "metadata": {},
   "outputs": [
    {
     "data": {
      "image/png": "[encoded data removed]",
      "text/plain": [
       "<Figure size 864x432 with 1 Axes>"
      ]
     },
     "metadata": {
      "needs_background": "light"
     },
     "output_type": "display_data"
    }
   ],
   "source": [
    "# Создаём контейнер графика matplotlib и задаём его размер\n",
    "plt.figure(figsize = (12, 6))\n",
    "\n",
    "# Строим гистограмму с помощью pandas\n",
    "df.groupby('category')['seats'].agg(lambda x: x.median()).sort_values().plot(\n",
    "    kind='bar',\n",
    "    color='#FF82A9',\n",
    "    edgecolor='black',\n",
    "    rot = 30\n",
    ")\n",
    "\n",
    "# Настраиваем оформление графика\n",
    "plt.title('Наиболее типичное количество мест для каждой категории заведений')\n",
    "plt.xlabel('Категория заведения')\n",
    "plt.ylabel('Модальное количество мест')\n",
    "\n",
    "# Добавляем сетку\n",
    "plt.grid()\n",
    "\n",
    "# Выводим график\n",
    "plt.show()"
   ]
  },
  {
   "cell_type": "markdown",
   "id": "33595504",
   "metadata": {},
   "source": [
    "Средние значения находятся в диапазоне 50 - 86 мест.\n",
    "Меньше всего посадочных мест в **булочных**, наибольшее количество в **ресторанах**, что соответствует специфике заведений."
   ]
  },
  {
   "cell_type": "markdown",
   "id": "c2399a74",
   "metadata": {},
   "source": [
    "### Исследование рейтингов заведений."
   ]
  },
  {
   "cell_type": "code",
   "execution_count": 39,
   "id": "06be0725",
   "metadata": {},
   "outputs": [
    {
     "data": {
      "text/plain": [
       "category\n",
       "бар,паб            4.387712\n",
       "булочная           4.268359\n",
       "быстрое питание    4.050249\n",
       "кафе               4.123886\n",
       "кофейня            4.277282\n",
       "пиццерия           4.301264\n",
       "ресторан           4.290357\n",
       "столовая           4.211429\n",
       "Name: rating, dtype: float64"
      ]
     },
     "execution_count": 39,
     "metadata": {},
     "output_type": "execute_result"
    }
   ],
   "source": [
    "# Выводим средний рейтинг для разных категорий заведений\n",
    "df.groupby('category')['rating'].agg('mean')"
   ]
  },
  {
   "cell_type": "code",
   "execution_count": 40,
   "id": "d57bb092",
   "metadata": {},
   "outputs": [
    {
     "data": {
      "image/png": "[encoded data removed]",
      "text/plain": [
       "<Figure size 864x432 with 1 Axes>"
      ]
     },
     "metadata": {
      "needs_background": "light"
     },
     "output_type": "display_data"
    }
   ],
   "source": [
    "# Создаём контейнер графика matplotlib и задаём его размер\n",
    "plt.figure(figsize = (12, 6))\n",
    "\n",
    "# Строим гистограмму с помощью pandas\n",
    "df.groupby('category')['rating'].agg('mean').sort_values(ascending=False).plot(\n",
    "    kind='bar',\n",
    "    color='#FF82A9',\n",
    "    edgecolor='black',\n",
    "    rot = 30\n",
    ")\n",
    "\n",
    "# Настраиваем оформление графика\n",
    "plt.title('Средний рейтинг заведений в зависимости от категории заведения')\n",
    "plt.xlabel('Категория заведения')\n",
    "plt.ylabel('Средний рейтинг заведений')\n",
    "plt.ylim(bottom = 4)\n",
    "\n",
    "# Добавляем сетку\n",
    "plt.grid()\n",
    "\n",
    "# Выводим график\n",
    "plt.show()"
   ]
  },
  {
   "cell_type": "markdown",
   "id": "3991326e",
   "metadata": {},
   "source": [
    "Средние рейтинги всех категорий заведений находятся в диапазоне **от 4 до 5**. Самый высокий рейтинг в среднем у **баров, пабов** (4,39), а самый низкий у **быстрого питания** (4,05) и **кафе** (4,12). "
   ]
  },
  {
   "cell_type": "markdown",
   "id": "f7b44880",
   "metadata": {},
   "source": [
    "### Корреляция рейтингов заведений с различными данными."
   ]
  },
  {
   "cell_type": "code",
   "execution_count": 41,
   "id": "3e914445",
   "metadata": {},
   "outputs": [
    {
     "name": "stdout",
     "output_type": "stream",
     "text": [
      "interval columns not set, guessing: ['chain', 'seats', 'rating']\n",
      "Корреляционная матрица с коэффициентом phi_k для переменной rating\n"
     ]
    },
    {
     "data": {
      "text/html": [
       "<div>\n",
       "<style scoped>\n",
       "    .dataframe tbody tr th:only-of-type {\n",
       "        vertical-align: middle;\n",
       "    }\n",
       "\n",
       "    .dataframe tbody tr th {\n",
       "        vertical-align: top;\n",
       "    }\n",
       "\n",
       "    .dataframe thead th {\n",
       "        text-align: right;\n",
       "    }\n",
       "</style>\n",
       "<table border=\"1\" class=\"dataframe\">\n",
       "  <thead>\n",
       "    <tr style=\"text-align: right;\">\n",
       "      <th></th>\n",
       "      <th>rating</th>\n",
       "    </tr>\n",
       "  </thead>\n",
       "  <tbody>\n",
       "    <tr>\n",
       "      <th>price</th>\n",
       "      <td>0.220295</td>\n",
       "    </tr>\n",
       "    <tr>\n",
       "      <th>district</th>\n",
       "      <td>0.200691</td>\n",
       "    </tr>\n",
       "    <tr>\n",
       "      <th>category</th>\n",
       "      <td>0.190003</td>\n",
       "    </tr>\n",
       "    <tr>\n",
       "      <th>is_24_7</th>\n",
       "      <td>0.150173</td>\n",
       "    </tr>\n",
       "    <tr>\n",
       "      <th>chain</th>\n",
       "      <td>0.108092</td>\n",
       "    </tr>\n",
       "    <tr>\n",
       "      <th>seats</th>\n",
       "      <td>0.000000</td>\n",
       "    </tr>\n",
       "  </tbody>\n",
       "</table>\n",
       "</div>"
      ],
      "text/plain": [
       "            rating\n",
       "price     0.220295\n",
       "district  0.200691\n",
       "category  0.190003\n",
       "is_24_7   0.150173\n",
       "chain     0.108092\n",
       "seats     0.000000"
      ]
     },
     "execution_count": 41,
     "metadata": {},
     "output_type": "execute_result"
    }
   ],
   "source": [
    "# Вычисляем корреляционную матрицу с использованием phi_k\n",
    "correlation_matrix = df[['category', 'district', 'chain', 'seats', 'price', 'is_24_7', 'rating']].phik_matrix()\n",
    "\n",
    "# Выводим результат\n",
    "print('Корреляционная матрица с коэффициентом phi_k для переменной rating')\n",
    "correlation_matrix.loc[correlation_matrix.index != 'rating'][['rating']].sort_values(by='rating', ascending=False)"
   ]
  },
  {
   "cell_type": "code",
   "execution_count": 42,
   "id": "a3d2b031",
   "metadata": {},
   "outputs": [
    {
     "data": {
      "image/png": "[encoded data removed]",
      "text/plain": [
       "<Figure size 216x648 with 1 Axes>"
      ]
     },
     "metadata": {
      "needs_background": "light"
     },
     "output_type": "display_data"
    }
   ],
   "source": [
    "# Строим тепловую карту\n",
    "plt.figure(figsize=(3, 9))\n",
    "\n",
    "# Сохраняем матрицу корреляции признака rating с другими признаками \n",
    "data_heatmap = correlation_matrix.loc[correlation_matrix.index != 'rating'][['rating']].sort_values(by='rating', ascending=False)\n",
    "sns.heatmap(data_heatmap,\n",
    "            annot=True, # Отображаем численные значения в ячейках карты\n",
    "            fmt='.2f', # Форматируем значения корреляции: два знака после точки\n",
    "            cmap='coolwarm', # Устанавливаем цветовую гамму от красного к синему\n",
    "            linewidths=0.5, # Форматируем линию между ячейками карты\n",
    "            cbar=False # Отключаем цветовую шкалу\n",
    "           )\n",
    "\n",
    "# Добавляем заголовок и подпись по оси Х\n",
    "plt.title('Тепловая карта коэффициента phi_k \\n для данных rating')\n",
    "plt.xlabel('Рейтинг')\n",
    "\n",
    "# Выводим график\n",
    "plt.show()"
   ]
  },
  {
   "cell_type": "markdown",
   "id": "de077a45",
   "metadata": {},
   "source": [
    "Наибольшая корреляция с рейтингом у полей `price` (0,22), `district` (0,20), `category` (0,19). Круглосуточная работа, принадлежность к сети и размер заведения имеют слабую корреляцию с рейтингом."
   ]
  },
  {
   "cell_type": "markdown",
   "id": "a9fe0009",
   "metadata": {},
   "source": [
    "Дополнительно рассмотрим связь рейтинга с ценовой категорией."
   ]
  },
  {
   "cell_type": "code",
   "execution_count": 43,
   "id": "12ae4da0",
   "metadata": {},
   "outputs": [
    {
     "data": {
      "text/plain": [
       "price\n",
       "высокие          4.4\n",
       "выше среднего    4.4\n",
       "средние          4.3\n",
       "низкие           4.2\n",
       "Name: rating, dtype: float64"
      ]
     },
     "execution_count": 43,
     "metadata": {},
     "output_type": "execute_result"
    }
   ],
   "source": [
    "df.groupby('price')['rating'].median().sort_values(ascending = False)"
   ]
  },
  {
   "cell_type": "code",
   "execution_count": 44,
   "id": "7e3909ad",
   "metadata": {},
   "outputs": [
    {
     "data": {
      "image/png": "[encoded data removed]",
      "text/plain": [
       "<Figure size 720x288 with 1 Axes>"
      ]
     },
     "metadata": {
      "needs_background": "light"
     },
     "output_type": "display_data"
    }
   ],
   "source": [
    "# Создаём фигуру графика\n",
    "plt.figure(figsize=(10, 4))\n",
    "\n",
    "# Строим диаграмму \n",
    "df.groupby('price')['rating'].median().sort_values(ascending = False).plot(\n",
    "    kind = 'bar',\n",
    "    rot = 30,\n",
    "    color='#FF82A9')\n",
    "\n",
    "# Настраиваем внешний вид графика и выводим его на экран\n",
    "plt.ylim(4)\n",
    "plt.title(f'Распределение среднего рейтинга заведения в зависимости от ценовой категории')\n",
    "plt.xlabel('Ценовая категория')\n",
    "plt.ylabel('Среднее значение рейтинга')\n",
    "plt.show()"
   ]
  },
  {
   "cell_type": "markdown",
   "id": "2ead3841",
   "metadata": {},
   "source": [
    "Из графика видно, что чем выше ценовая категория, тем выше значения среднего рейтинга. "
   ]
  },
  {
   "cell_type": "markdown",
   "id": "0326b55d",
   "metadata": {},
   "source": [
    "### Топ-15 популярных сетей по количеству заведений."
   ]
  },
  {
   "cell_type": "code",
   "execution_count": 45,
   "id": "d1444d68",
   "metadata": {},
   "outputs": [
    {
     "data": {
      "text/html": [
       "<div>\n",
       "<style scoped>\n",
       "    .dataframe tbody tr th:only-of-type {\n",
       "        vertical-align: middle;\n",
       "    }\n",
       "\n",
       "    .dataframe tbody tr th {\n",
       "        vertical-align: top;\n",
       "    }\n",
       "\n",
       "    .dataframe thead th {\n",
       "        text-align: right;\n",
       "    }\n",
       "</style>\n",
       "<table border=\"1\" class=\"dataframe\">\n",
       "  <thead>\n",
       "    <tr style=\"text-align: right;\">\n",
       "      <th></th>\n",
       "      <th>name</th>\n",
       "      <th>avg_rating</th>\n",
       "      <th>name_count</th>\n",
       "      <th>chain_category</th>\n",
       "    </tr>\n",
       "  </thead>\n",
       "  <tbody>\n",
       "    <tr>\n",
       "      <th>0</th>\n",
       "      <td>кафе</td>\n",
       "      <td>3.880952</td>\n",
       "      <td>189</td>\n",
       "      <td>кафе</td>\n",
       "    </tr>\n",
       "    <tr>\n",
       "      <th>1</th>\n",
       "      <td>шоколадница</td>\n",
       "      <td>4.177500</td>\n",
       "      <td>120</td>\n",
       "      <td>кофейня</td>\n",
       "    </tr>\n",
       "    <tr>\n",
       "      <th>2</th>\n",
       "      <td>домино'с пицца</td>\n",
       "      <td>4.171429</td>\n",
       "      <td>77</td>\n",
       "      <td>пиццерия</td>\n",
       "    </tr>\n",
       "    <tr>\n",
       "      <th>3</th>\n",
       "      <td>додо пицца</td>\n",
       "      <td>4.286486</td>\n",
       "      <td>74</td>\n",
       "      <td>пиццерия</td>\n",
       "    </tr>\n",
       "    <tr>\n",
       "      <th>4</th>\n",
       "      <td>one price coffee</td>\n",
       "      <td>4.069444</td>\n",
       "      <td>72</td>\n",
       "      <td>кофейня</td>\n",
       "    </tr>\n",
       "    <tr>\n",
       "      <th>5</th>\n",
       "      <td>яндекс лавка</td>\n",
       "      <td>3.872464</td>\n",
       "      <td>69</td>\n",
       "      <td>ресторан</td>\n",
       "    </tr>\n",
       "    <tr>\n",
       "      <th>6</th>\n",
       "      <td>cofix</td>\n",
       "      <td>4.075385</td>\n",
       "      <td>65</td>\n",
       "      <td>кофейня</td>\n",
       "    </tr>\n",
       "    <tr>\n",
       "      <th>7</th>\n",
       "      <td>prime</td>\n",
       "      <td>4.116000</td>\n",
       "      <td>50</td>\n",
       "      <td>ресторан</td>\n",
       "    </tr>\n",
       "    <tr>\n",
       "      <th>8</th>\n",
       "      <td>хинкальная</td>\n",
       "      <td>4.322727</td>\n",
       "      <td>44</td>\n",
       "      <td>кафе</td>\n",
       "    </tr>\n",
       "    <tr>\n",
       "      <th>9</th>\n",
       "      <td>шаурма</td>\n",
       "      <td>3.909302</td>\n",
       "      <td>43</td>\n",
       "      <td>быстрое питание</td>\n",
       "    </tr>\n",
       "    <tr>\n",
       "      <th>10</th>\n",
       "      <td>кофепорт</td>\n",
       "      <td>4.147619</td>\n",
       "      <td>42</td>\n",
       "      <td>кофейня</td>\n",
       "    </tr>\n",
       "    <tr>\n",
       "      <th>11</th>\n",
       "      <td>кулинарная лавка братьев караваевых</td>\n",
       "      <td>4.394872</td>\n",
       "      <td>39</td>\n",
       "      <td>кафе</td>\n",
       "    </tr>\n",
       "    <tr>\n",
       "      <th>12</th>\n",
       "      <td>теремок</td>\n",
       "      <td>4.123684</td>\n",
       "      <td>38</td>\n",
       "      <td>ресторан</td>\n",
       "    </tr>\n",
       "    <tr>\n",
       "      <th>13</th>\n",
       "      <td>чайхана</td>\n",
       "      <td>3.924324</td>\n",
       "      <td>37</td>\n",
       "      <td>кафе</td>\n",
       "    </tr>\n",
       "    <tr>\n",
       "      <th>14</th>\n",
       "      <td>ресторан</td>\n",
       "      <td>4.314706</td>\n",
       "      <td>34</td>\n",
       "      <td>ресторан</td>\n",
       "    </tr>\n",
       "  </tbody>\n",
       "</table>\n",
       "</div>"
      ],
      "text/plain": [
       "                                   name  avg_rating  name_count  \\\n",
       "0                                  кафе    3.880952         189   \n",
       "1                           шоколадница    4.177500         120   \n",
       "2                        домино'с пицца    4.171429          77   \n",
       "3                            додо пицца    4.286486          74   \n",
       "4                      one price coffee    4.069444          72   \n",
       "5                          яндекс лавка    3.872464          69   \n",
       "6                                 cofix    4.075385          65   \n",
       "7                                 prime    4.116000          50   \n",
       "8                            хинкальная    4.322727          44   \n",
       "9                                шаурма    3.909302          43   \n",
       "10                             кофепорт    4.147619          42   \n",
       "11  кулинарная лавка братьев караваевых    4.394872          39   \n",
       "12                              теремок    4.123684          38   \n",
       "13                              чайхана    3.924324          37   \n",
       "14                             ресторан    4.314706          34   \n",
       "\n",
       "     chain_category  \n",
       "0              кафе  \n",
       "1           кофейня  \n",
       "2          пиццерия  \n",
       "3          пиццерия  \n",
       "4           кофейня  \n",
       "5          ресторан  \n",
       "6           кофейня  \n",
       "7          ресторан  \n",
       "8              кафе  \n",
       "9   быстрое питание  \n",
       "10          кофейня  \n",
       "11             кафе  \n",
       "12         ресторан  \n",
       "13             кафе  \n",
       "14         ресторан  "
      ]
     },
     "execution_count": 45,
     "metadata": {},
     "output_type": "execute_result"
    }
   ],
   "source": [
    "# Группируем данные по названию и добавляем в датафрейм значения среднего рейтинга, количества заведений и наиболее типичной категории\n",
    "top_df = df.groupby('name').agg({'rating': 'mean', 'name': 'count', 'category': lambda x: x.mode()}).rename(columns={\n",
    "        'rating': 'avg_rating',\n",
    "        'name': 'name_count',\n",
    "        'category': 'chain_category'\n",
    "    }).sort_values('name_count', ascending=False).head(15).reset_index()\n",
    "\n",
    "# Выводим сгруппированный датафрейм\n",
    "top_df"
   ]
  },
  {
   "cell_type": "markdown",
   "id": "114dd17a",
   "metadata": {},
   "source": [
    "В рейтинг попали заведения под названиями **кафе**, **шаурма**, **ресторан**. Скорее всего это не сеть, а наименования небольших заведений. \n",
    "Наиболее популярные категории сетей заведений - **кафе, кофейни, рестораны**."
   ]
  },
  {
   "cell_type": "code",
   "execution_count": 46,
   "id": "412d12de",
   "metadata": {},
   "outputs": [
    {
     "data": {
      "image/png": "[encoded data removed]",
      "text/plain": [
       "<Figure size 432x288 with 1 Axes>"
      ]
     },
     "metadata": {
      "needs_background": "light"
     },
     "output_type": "display_data"
    }
   ],
   "source": [
    "# Строим гистограмму с помощью pandas\n",
    "plt.barh(\n",
    "    top_df['name'],        \n",
    "    top_df['name_count'], \n",
    "    color = '#FF82A9'\n",
    ")\n",
    "\n",
    "# Настраиваем внешний вид графика и выводим его на экран\n",
    "plt.title('Топ-15 заведений Москвы по количеству точек сети')\n",
    "plt.gca().invert_yaxis()\n",
    "plt.xlabel('Количество заведений')\n",
    "plt.ylabel('Название сети')\n",
    "plt.show()"
   ]
  },
  {
   "cell_type": "markdown",
   "id": "f9499e59",
   "metadata": {},
   "source": [
    "Наибольшее количество точек имеет **Шоколадница** (120), **Домино'с пицца** (77) и **Додо пицца** (74)."
   ]
  },
  {
   "cell_type": "code",
   "execution_count": 47,
   "id": "cce5c8e7",
   "metadata": {},
   "outputs": [
    {
     "data": {
      "image/png": "[encoded data removed]",
      "text/plain": [
       "<Figure size 432x288 with 1 Axes>"
      ]
     },
     "metadata": {
      "needs_background": "light"
     },
     "output_type": "display_data"
    }
   ],
   "source": [
    "# Сортируем датафрейм по полю avg_rating\n",
    "top_df = top_df.sort_values('avg_rating')\n",
    "\n",
    "# Строим гистограмму с помощью pandas\n",
    "plt.barh(\n",
    "    top_df['name'],        \n",
    "    top_df['avg_rating'], \n",
    "    color = '#FF82A9'\n",
    ")\n",
    "\n",
    "# Настраиваем внешний вид графика и выводим его на экран\n",
    "plt.title('Топ-15 заведений Москвы по количеству точек сети')\n",
    "plt.xlim(3)\n",
    "plt.xlabel('Средний рейтинг заведений сети')\n",
    "plt.ylabel('Название сети')\n",
    "plt.show()"
   ]
  },
  {
   "cell_type": "markdown",
   "id": "7755e462",
   "metadata": {},
   "source": [
    "Средний рейтинг сетевых заведений не превышает 4.5, наиболее высокий рейтинг имеют **Кулинарная лавка братьев Караваевых** и **Додо пицца**."
   ]
  },
  {
   "cell_type": "markdown",
   "id": "ed832bb8",
   "metadata": {},
   "source": [
    "### Вариация среднего чека заведения в зависимости от района Москвы."
   ]
  },
  {
   "cell_type": "code",
   "execution_count": 48,
   "id": "d33bbeb8",
   "metadata": {},
   "outputs": [
    {
     "data": {
      "image/png": "[encoded data removed]",
      "text/plain": [
       "<Figure size 864x432 with 1 Axes>"
      ]
     },
     "metadata": {
      "needs_background": "light"
     },
     "output_type": "display_data"
    }
   ],
   "source": [
    "# Создаём фигуру графика\n",
    "plt.figure(figsize = (12, 6))\n",
    "\n",
    "# Вычисляем медианы для сортировки\n",
    "medians = df[df['middle_avg_bill'] < 8000].groupby('district')['middle_avg_bill'].median().sort_values(ascending = False)\n",
    "\n",
    "# Строим диаграмму размаха значений\n",
    "sns.boxplot(data = df[df['middle_avg_bill'] < 8000], y = 'district', x = 'middle_avg_bill', order=medians.index)\n",
    "\n",
    "# Настраиваем внешний вид графика\n",
    "plt.title('Распределение средних чеков в зависимости от расположения заведения')\n",
    "plt.xlabel('Средний чек')\n",
    "plt.ylabel('Район Москвы')\n",
    "\n",
    "# Выводим график\n",
    "plt.show()"
   ]
  },
  {
   "cell_type": "markdown",
   "id": "ad642c0e",
   "metadata": {},
   "source": [
    "Средний чек сильно разнится в зависимости от района. Наиболее дорогими можно считать заведения в Центральном, Западном и Северном округах. Большинство значений находятся в диапазоне 200 - 2000."
   ]
  },
  {
   "cell_type": "code",
   "execution_count": 49,
   "id": "34ef33ae",
   "metadata": {},
   "outputs": [
    {
     "data": {
      "image/png": "[encoded data removed]",
      "text/plain": [
       "<Figure size 720x432 with 1 Axes>"
      ]
     },
     "metadata": {
      "needs_background": "light"
     },
     "output_type": "display_data"
    }
   ],
   "source": [
    "# Создаем столбец, хранящий информацию о принадлежности заведения к ЦАО\n",
    "df['is_center'] = df['district'] == 'Центральный административный округ'\n",
    "\n",
    "# Создаём фигуру графика\n",
    "plt.figure(figsize=(10, 6))\n",
    "\n",
    "# Строим гистограмму с помощью pandas\n",
    "sns.histplot(\n",
    "    data=df[df['middle_avg_bill'] < 8000],\n",
    "    x='middle_avg_bill',\n",
    "    hue='is_center',\n",
    "    bins=30,\n",
    "    kde=True\n",
    ")\n",
    "\n",
    "# Настраиваем внешний вид графика и выводим его на экран\n",
    "plt.title('Сравнение среднего чека в ЦАО и других округах')\n",
    "plt.xlabel('Средний чек')\n",
    "plt.ylabel('Количество заведений')\n",
    "plt.legend(['Другие округа', 'ЦАО'])\n",
    "plt.grid()\n",
    "plt.show()"
   ]
  },
  {
   "cell_type": "markdown",
   "id": "d71d3190",
   "metadata": {},
   "source": [
    "Средний чек в центральном административном округе имеет ярко выраженную тенденцию к значениям 250 - 500, при этом содержит большое количество очень высоких средних чеков. В целом средний чек в ЦАО выше."
   ]
  },
  {
   "cell_type": "markdown",
   "id": "cf8a0837",
   "metadata": {},
   "source": [
    "#### Промежуточные выводы\n",
    "\n",
    "Анализ взаимосвязи данных показал, что:\n",
    "\n",
    "- Среднее количество посадочных мест - 108, медиана - 75. Средние значения находятся в диапазоне 50 - 86 мест в зависимости от категории заведения.\n",
    "- Самый высокий рейтинг в среднем у баров, пабов (4,39), а самый низкий у быстрого питания (4,05) и кафе (4,12).\n",
    "- Наибольшая корреляция с рейтингом у поля price (0,22). Более дорогие заведения получают более высокие оценки - это может быть связано с качеством обслуживания, меню и тд.\n",
    "- Среди сетей наибольшее количество точек имеет Шоколадница (120), Домино'с пицца (77) и Додо пицца (74).\n",
    "- Средний чек сильно разнится в зависимости от района. Наиболее дорогими можно считать заведения в Центральном, Западном и Северном округах.\n",
    "\n",
    "---"
   ]
  },
  {
   "cell_type": "markdown",
   "id": "350955e2",
   "metadata": {},
   "source": [
    "## Подведём итоги\n",
    "\n",
    "В ходе исследования проанализировали данные 8406 заведений общественного питания Москвы. Данные включали основную информацию о заведениях общественного питания и информацию о среднем чеке в них. Акцент исследования был на том, чтобы выявить взаимосвзяи между рейтингом заведений и другими факторами для выявления успешных характеристик.\n",
    "\n",
    "### Общий профиль заведений общественного питания Москвы\n",
    "\n",
    "Исследовательский анализ данных позволил сформировать обобщённый профиль заведений Москвы:\n",
    "\n",
    "- Из 8406 проанализированных заведений около 38% сетевые, остальные - одиночные.\n",
    "\n",
    "- Большинство заведений расположено в ЦАО.\n",
    "\n",
    "- Наиболее распространённые категории - кафе, ресторан и кофейня.\n",
    "\n",
    "- Круглосуточными являются лишь 9% заведений, оставшиеся 91% имеют ограниченный график работы.\n",
    "\n",
    "- Большинство заведений предоставляет около 50 - 86 посадочных мест, при этом у значительной части информация о посадке отсутствует.\n",
    "\n",
    "### Факторы, влияющие на рейтинг заведений\n",
    "\n",
    "На рейтинг заведений влияет сразу несколько факторов, наиболее значимыми факторами оказались:\n",
    "\n",
    "- категория цен в заведении (заведения с более высоким чеком чаще имеют более высокий рейтинг);\n",
    "\n",
    "- административный район;\n",
    "\n",
    "- категория заведения.\n",
    "\n",
    "Средние рейтинги всех категорий заведений находятся в диапазоне от 4 до 5. Самый высокий рейтинг в среднем у баров, пабов, а самый низкий у быстрого питания и кафе.\n",
    "\n",
    "### Рекомендации\n",
    "\n",
    "В качестве рекомендаций стоит обратить особое внимание на категорию заведения и цен - они оказывают наибольшее влияние на рейтинг заведения. Также крайне важно выбрать подходящий район Москвы, так как локация имеет крайне важное значение.\n"
   ]
  }
 ],
 "metadata": {
  "ExecuteTimeLog": [
   {
    "duration": 1196,
    "start_time": "2025-07-29T15:37:44.132Z"
   },
   {
    "duration": 0,
    "start_time": "2025-07-29T15:37:45.331Z"
   },
   {
    "duration": 0,
    "start_time": "2025-07-29T15:37:45.332Z"
   },
   {
    "duration": 0,
    "start_time": "2025-07-29T15:37:45.333Z"
   },
   {
    "duration": 0,
    "start_time": "2025-07-29T15:37:45.334Z"
   },
   {
    "duration": 0,
    "start_time": "2025-07-29T15:37:45.335Z"
   },
   {
    "duration": 0,
    "start_time": "2025-07-29T15:37:45.336Z"
   },
   {
    "duration": 0,
    "start_time": "2025-07-29T15:37:45.337Z"
   },
   {
    "duration": 0,
    "start_time": "2025-07-29T15:37:45.338Z"
   },
   {
    "duration": 0,
    "start_time": "2025-07-29T15:37:45.339Z"
   },
   {
    "duration": 0,
    "start_time": "2025-07-29T15:37:45.340Z"
   },
   {
    "duration": 0,
    "start_time": "2025-07-29T15:37:45.341Z"
   },
   {
    "duration": 0,
    "start_time": "2025-07-29T15:37:45.342Z"
   },
   {
    "duration": 0,
    "start_time": "2025-07-29T15:37:45.343Z"
   },
   {
    "duration": 0,
    "start_time": "2025-07-29T15:37:45.344Z"
   },
   {
    "duration": 0,
    "start_time": "2025-07-29T15:37:45.345Z"
   },
   {
    "duration": 0,
    "start_time": "2025-07-29T15:37:45.346Z"
   },
   {
    "duration": 0,
    "start_time": "2025-07-29T15:37:45.347Z"
   },
   {
    "duration": 0,
    "start_time": "2025-07-29T15:37:45.348Z"
   },
   {
    "duration": 0,
    "start_time": "2025-07-29T15:37:45.349Z"
   },
   {
    "duration": 0,
    "start_time": "2025-07-29T15:37:45.350Z"
   },
   {
    "duration": 0,
    "start_time": "2025-07-29T15:37:45.351Z"
   },
   {
    "duration": 0,
    "start_time": "2025-07-29T15:37:45.352Z"
   },
   {
    "duration": 0,
    "start_time": "2025-07-29T15:37:45.353Z"
   },
   {
    "duration": 0,
    "start_time": "2025-07-29T15:37:45.354Z"
   },
   {
    "duration": 0,
    "start_time": "2025-07-29T15:37:45.354Z"
   },
   {
    "duration": 0,
    "start_time": "2025-07-29T15:37:45.355Z"
   },
   {
    "duration": 0,
    "start_time": "2025-07-29T15:37:45.356Z"
   },
   {
    "duration": 0,
    "start_time": "2025-07-29T15:37:45.357Z"
   },
   {
    "duration": 0,
    "start_time": "2025-07-29T15:37:45.358Z"
   },
   {
    "duration": 0,
    "start_time": "2025-07-29T15:37:45.358Z"
   },
   {
    "duration": 0,
    "start_time": "2025-07-29T15:37:45.399Z"
   },
   {
    "duration": 0,
    "start_time": "2025-07-29T15:37:45.400Z"
   },
   {
    "duration": 0,
    "start_time": "2025-07-29T15:37:45.401Z"
   },
   {
    "duration": 0,
    "start_time": "2025-07-29T15:37:45.402Z"
   },
   {
    "duration": 0,
    "start_time": "2025-07-29T15:37:45.403Z"
   },
   {
    "duration": 0,
    "start_time": "2025-07-29T15:37:45.403Z"
   },
   {
    "duration": 0,
    "start_time": "2025-07-29T15:37:45.405Z"
   },
   {
    "duration": 0,
    "start_time": "2025-07-29T15:37:45.405Z"
   },
   {
    "duration": 0,
    "start_time": "2025-07-29T15:37:45.407Z"
   },
   {
    "duration": 0,
    "start_time": "2025-07-29T15:37:45.407Z"
   },
   {
    "duration": 0,
    "start_time": "2025-07-29T15:37:45.409Z"
   },
   {
    "duration": 0,
    "start_time": "2025-07-29T15:37:45.409Z"
   },
   {
    "duration": 0,
    "start_time": "2025-07-29T15:37:45.410Z"
   },
   {
    "duration": 0,
    "start_time": "2025-07-29T15:37:45.411Z"
   },
   {
    "duration": 0,
    "start_time": "2025-07-29T15:37:45.412Z"
   },
   {
    "duration": 3108,
    "start_time": "2025-07-29T15:38:08.563Z"
   },
   {
    "duration": 1499,
    "start_time": "2025-07-29T15:38:11.674Z"
   },
   {
    "duration": 150,
    "start_time": "2025-07-29T15:38:13.175Z"
   },
   {
    "duration": 15,
    "start_time": "2025-07-29T15:38:13.327Z"
   },
   {
    "duration": 55,
    "start_time": "2025-07-29T15:38:13.344Z"
   },
   {
    "duration": 8,
    "start_time": "2025-07-29T15:38:13.400Z"
   },
   {
    "duration": 9,
    "start_time": "2025-07-29T15:38:13.410Z"
   },
   {
    "duration": 11,
    "start_time": "2025-07-29T15:38:13.420Z"
   },
   {
    "duration": 5,
    "start_time": "2025-07-29T15:38:13.432Z"
   },
   {
    "duration": 6,
    "start_time": "2025-07-29T15:38:13.438Z"
   },
   {
    "duration": 15,
    "start_time": "2025-07-29T15:38:13.445Z"
   },
   {
    "duration": 11,
    "start_time": "2025-07-29T15:38:13.461Z"
   },
   {
    "duration": 45,
    "start_time": "2025-07-29T15:38:13.474Z"
   },
   {
    "duration": 13,
    "start_time": "2025-07-29T15:38:13.522Z"
   },
   {
    "duration": 41,
    "start_time": "2025-07-29T15:38:13.536Z"
   },
   {
    "duration": 24,
    "start_time": "2025-07-29T15:38:13.578Z"
   },
   {
    "duration": 21,
    "start_time": "2025-07-29T15:38:13.603Z"
   },
   {
    "duration": 30,
    "start_time": "2025-07-29T15:38:13.626Z"
   },
   {
    "duration": 23,
    "start_time": "2025-07-29T15:38:13.657Z"
   },
   {
    "duration": 2,
    "start_time": "2025-07-29T15:38:13.682Z"
   },
   {
    "duration": 17,
    "start_time": "2025-07-29T15:38:13.686Z"
   },
   {
    "duration": 6,
    "start_time": "2025-07-29T15:38:13.704Z"
   },
   {
    "duration": 40,
    "start_time": "2025-07-29T15:38:13.711Z"
   },
   {
    "duration": 189,
    "start_time": "2025-07-29T15:38:13.753Z"
   },
   {
    "duration": 6,
    "start_time": "2025-07-29T15:38:13.944Z"
   },
   {
    "duration": 184,
    "start_time": "2025-07-29T15:38:13.951Z"
   },
   {
    "duration": 7,
    "start_time": "2025-07-29T15:38:14.137Z"
   },
   {
    "duration": 185,
    "start_time": "2025-07-29T15:38:14.146Z"
   },
   {
    "duration": 6,
    "start_time": "2025-07-29T15:38:14.333Z"
   },
   {
    "duration": 158,
    "start_time": "2025-07-29T15:38:14.340Z"
   },
   {
    "duration": 8,
    "start_time": "2025-07-29T15:38:14.500Z"
   },
   {
    "duration": 330,
    "start_time": "2025-07-29T15:38:14.509Z"
   },
   {
    "duration": 8,
    "start_time": "2025-07-29T15:38:14.841Z"
   },
   {
    "duration": 191,
    "start_time": "2025-07-29T15:38:14.850Z"
   },
   {
    "duration": 123,
    "start_time": "2025-07-29T15:38:15.043Z"
   },
   {
    "duration": 9,
    "start_time": "2025-07-29T15:38:15.167Z"
   },
   {
    "duration": 387,
    "start_time": "2025-07-29T15:38:15.177Z"
   },
   {
    "duration": 7,
    "start_time": "2025-07-29T15:38:15.565Z"
   },
   {
    "duration": 313,
    "start_time": "2025-07-29T15:38:15.573Z"
   },
   {
    "duration": 201,
    "start_time": "2025-07-29T15:38:15.888Z"
   },
   {
    "duration": 229,
    "start_time": "2025-07-29T15:38:16.098Z"
   },
   {
    "duration": 414,
    "start_time": "2025-07-29T15:38:16.329Z"
   },
   {
    "duration": 558,
    "start_time": "2025-07-29T15:38:16.745Z"
   },
   {
    "duration": 187,
    "start_time": "2025-07-29T15:38:17.305Z"
   },
   {
    "duration": 192,
    "start_time": "2025-07-29T15:38:17.498Z"
   },
   {
    "duration": 275,
    "start_time": "2025-07-29T15:38:17.691Z"
   },
   {
    "duration": 314,
    "start_time": "2025-07-29T15:38:17.968Z"
   },
   {
    "duration": 46,
    "start_time": "2025-07-29T16:44:25.112Z"
   },
   {
    "duration": 3702,
    "start_time": "2025-07-29T16:44:32.467Z"
   },
   {
    "duration": 1545,
    "start_time": "2025-07-29T16:44:36.172Z"
   },
   {
    "duration": 196,
    "start_time": "2025-07-29T16:44:37.719Z"
   },
   {
    "duration": 17,
    "start_time": "2025-07-29T16:44:37.917Z"
   },
   {
    "duration": 14,
    "start_time": "2025-07-29T16:44:37.935Z"
   },
   {
    "duration": 8,
    "start_time": "2025-07-29T16:44:37.951Z"
   },
   {
    "duration": 39,
    "start_time": "2025-07-29T16:44:37.961Z"
   },
   {
    "duration": 17,
    "start_time": "2025-07-29T16:44:38.008Z"
   },
   {
    "duration": 20,
    "start_time": "2025-07-29T16:44:38.027Z"
   },
   {
    "duration": 5,
    "start_time": "2025-07-29T16:44:38.050Z"
   },
   {
    "duration": 18,
    "start_time": "2025-07-29T16:44:38.056Z"
   },
   {
    "duration": 43,
    "start_time": "2025-07-29T16:44:38.076Z"
   },
   {
    "duration": 15,
    "start_time": "2025-07-29T16:44:38.121Z"
   },
   {
    "duration": 26,
    "start_time": "2025-07-29T16:44:38.138Z"
   },
   {
    "duration": 38,
    "start_time": "2025-07-29T16:44:38.166Z"
   },
   {
    "duration": 19,
    "start_time": "2025-07-29T16:44:38.211Z"
   },
   {
    "duration": 21,
    "start_time": "2025-07-29T16:44:38.232Z"
   },
   {
    "duration": 11,
    "start_time": "2025-07-29T16:44:38.255Z"
   },
   {
    "duration": 48,
    "start_time": "2025-07-29T16:44:38.267Z"
   },
   {
    "duration": 24,
    "start_time": "2025-07-29T16:44:38.317Z"
   },
   {
    "duration": 3,
    "start_time": "2025-07-29T16:44:38.343Z"
   },
   {
    "duration": 13,
    "start_time": "2025-07-29T16:44:38.347Z"
   },
   {
    "duration": 16,
    "start_time": "2025-07-29T16:44:38.362Z"
   },
   {
    "duration": 50,
    "start_time": "2025-07-29T16:44:38.384Z"
   },
   {
    "duration": 219,
    "start_time": "2025-07-29T16:44:38.436Z"
   },
   {
    "duration": 6,
    "start_time": "2025-07-29T16:44:38.657Z"
   },
   {
    "duration": 273,
    "start_time": "2025-07-29T16:44:38.665Z"
   },
   {
    "duration": 8,
    "start_time": "2025-07-29T16:44:38.942Z"
   },
   {
    "duration": 250,
    "start_time": "2025-07-29T16:44:38.952Z"
   },
   {
    "duration": 14,
    "start_time": "2025-07-29T16:44:39.204Z"
   },
   {
    "duration": 181,
    "start_time": "2025-07-29T16:44:39.220Z"
   },
   {
    "duration": 25,
    "start_time": "2025-07-29T16:44:39.403Z"
   },
   {
    "duration": 412,
    "start_time": "2025-07-29T16:44:39.430Z"
   },
   {
    "duration": 8,
    "start_time": "2025-07-29T16:44:39.844Z"
   },
   {
    "duration": 281,
    "start_time": "2025-07-29T16:44:39.854Z"
   },
   {
    "duration": 133,
    "start_time": "2025-07-29T16:44:40.136Z"
   },
   {
    "duration": 29,
    "start_time": "2025-07-29T16:44:40.271Z"
   },
   {
    "duration": 231,
    "start_time": "2025-07-29T16:44:40.304Z"
   },
   {
    "duration": 6,
    "start_time": "2025-07-29T16:44:40.537Z"
   },
   {
    "duration": 331,
    "start_time": "2025-07-29T16:44:40.545Z"
   },
   {
    "duration": 284,
    "start_time": "2025-07-29T16:44:40.885Z"
   },
   {
    "duration": 285,
    "start_time": "2025-07-29T16:44:41.170Z"
   },
   {
    "duration": 509,
    "start_time": "2025-07-29T16:44:41.457Z"
   },
   {
    "duration": 727,
    "start_time": "2025-07-29T16:44:41.976Z"
   },
   {
    "duration": 217,
    "start_time": "2025-07-29T16:44:42.709Z"
   },
   {
    "duration": 289,
    "start_time": "2025-07-29T16:44:42.927Z"
   },
   {
    "duration": 329,
    "start_time": "2025-07-29T16:44:43.218Z"
   },
   {
    "duration": 382,
    "start_time": "2025-07-29T16:44:43.549Z"
   },
   {
    "duration": 331,
    "start_time": "2025-07-29T16:53:33.521Z"
   },
   {
    "duration": 230,
    "start_time": "2025-07-29T16:53:41.063Z"
   },
   {
    "duration": 7,
    "start_time": "2025-07-29T16:53:53.131Z"
   },
   {
    "duration": 9,
    "start_time": "2025-07-29T16:54:07.370Z"
   },
   {
    "duration": 8,
    "start_time": "2025-07-29T16:54:16.718Z"
   },
   {
    "duration": 114,
    "start_time": "2025-07-29T16:55:49.321Z"
   },
   {
    "duration": 176,
    "start_time": "2025-07-29T16:56:03.769Z"
   },
   {
    "duration": 180,
    "start_time": "2025-07-29T16:56:28.866Z"
   },
   {
    "duration": 187,
    "start_time": "2025-07-29T16:56:51.073Z"
   },
   {
    "duration": 386,
    "start_time": "2025-07-29T16:57:32.746Z"
   },
   {
    "duration": 408,
    "start_time": "2025-07-29T16:57:44.149Z"
   },
   {
    "duration": 350,
    "start_time": "2025-07-29T16:57:54.693Z"
   },
   {
    "duration": 380,
    "start_time": "2025-07-29T16:58:01.963Z"
   },
   {
    "duration": 235,
    "start_time": "2025-07-29T17:00:19.412Z"
   },
   {
    "duration": 347,
    "start_time": "2025-07-29T17:00:29.383Z"
   },
   {
    "duration": 239,
    "start_time": "2025-07-29T17:09:48.629Z"
   },
   {
    "duration": 225,
    "start_time": "2025-07-29T17:09:54.625Z"
   },
   {
    "duration": 362,
    "start_time": "2025-07-29T17:18:55.012Z"
   },
   {
    "duration": 373,
    "start_time": "2025-07-29T17:19:10.927Z"
   },
   {
    "duration": 216,
    "start_time": "2025-07-29T17:23:42.172Z"
   },
   {
    "duration": 14,
    "start_time": "2025-07-29T17:24:05.065Z"
   },
   {
    "duration": 219,
    "start_time": "2025-07-29T17:24:20.735Z"
   },
   {
    "duration": 18,
    "start_time": "2025-07-29T17:24:47.908Z"
   },
   {
    "duration": 156,
    "start_time": "2025-07-29T17:34:46.270Z"
   },
   {
    "duration": 151,
    "start_time": "2025-07-29T17:35:00.261Z"
   },
   {
    "duration": 238,
    "start_time": "2025-07-29T17:35:27.452Z"
   },
   {
    "duration": 161,
    "start_time": "2025-07-29T17:37:09.547Z"
   },
   {
    "duration": 150,
    "start_time": "2025-07-29T17:37:27.912Z"
   },
   {
    "duration": 164,
    "start_time": "2025-07-29T17:37:46.347Z"
   },
   {
    "duration": 7,
    "start_time": "2025-07-29T17:38:15.650Z"
   },
   {
    "duration": 147,
    "start_time": "2025-07-29T17:42:23.113Z"
   },
   {
    "duration": 16,
    "start_time": "2025-07-29T17:46:55.436Z"
   },
   {
    "duration": 16,
    "start_time": "2025-07-29T17:47:19.820Z"
   },
   {
    "duration": 277,
    "start_time": "2025-07-29T17:47:58.989Z"
   },
   {
    "duration": 281,
    "start_time": "2025-07-29T17:48:07.261Z"
   },
   {
    "duration": 260,
    "start_time": "2025-07-29T17:48:42.860Z"
   },
   {
    "duration": 226,
    "start_time": "2025-07-29T17:50:08.296Z"
   },
   {
    "duration": 241,
    "start_time": "2025-07-29T17:50:17.887Z"
   },
   {
    "duration": 2962,
    "start_time": "2025-07-29T17:52:11.406Z"
   },
   {
    "duration": 1292,
    "start_time": "2025-07-29T17:52:14.371Z"
   },
   {
    "duration": 172,
    "start_time": "2025-07-29T17:52:15.665Z"
   },
   {
    "duration": 18,
    "start_time": "2025-07-29T17:52:15.839Z"
   },
   {
    "duration": 19,
    "start_time": "2025-07-29T17:52:15.859Z"
   },
   {
    "duration": 15,
    "start_time": "2025-07-29T17:52:15.883Z"
   },
   {
    "duration": 41,
    "start_time": "2025-07-29T17:52:15.900Z"
   },
   {
    "duration": 28,
    "start_time": "2025-07-29T17:52:15.943Z"
   },
   {
    "duration": 33,
    "start_time": "2025-07-29T17:52:15.973Z"
   },
   {
    "duration": 4,
    "start_time": "2025-07-29T17:52:16.014Z"
   },
   {
    "duration": 35,
    "start_time": "2025-07-29T17:52:16.020Z"
   },
   {
    "duration": 36,
    "start_time": "2025-07-29T17:52:16.057Z"
   },
   {
    "duration": 25,
    "start_time": "2025-07-29T17:52:16.094Z"
   },
   {
    "duration": 25,
    "start_time": "2025-07-29T17:52:16.121Z"
   },
   {
    "duration": 13,
    "start_time": "2025-07-29T17:52:16.148Z"
   },
   {
    "duration": 47,
    "start_time": "2025-07-29T17:52:16.163Z"
   },
   {
    "duration": 17,
    "start_time": "2025-07-29T17:52:16.211Z"
   },
   {
    "duration": 37,
    "start_time": "2025-07-29T17:52:16.230Z"
   },
   {
    "duration": 25,
    "start_time": "2025-07-29T17:52:16.269Z"
   },
   {
    "duration": 30,
    "start_time": "2025-07-29T17:52:16.296Z"
   },
   {
    "duration": 4,
    "start_time": "2025-07-29T17:52:16.328Z"
   },
   {
    "duration": 24,
    "start_time": "2025-07-29T17:52:16.333Z"
   },
   {
    "duration": 9,
    "start_time": "2025-07-29T17:52:16.358Z"
   },
   {
    "duration": 13,
    "start_time": "2025-07-29T17:52:16.376Z"
   },
   {
    "duration": 247,
    "start_time": "2025-07-29T17:52:16.394Z"
   },
   {
    "duration": 6,
    "start_time": "2025-07-29T17:52:16.643Z"
   },
   {
    "duration": 243,
    "start_time": "2025-07-29T17:52:16.650Z"
   },
   {
    "duration": 15,
    "start_time": "2025-07-29T17:52:16.897Z"
   },
   {
    "duration": 210,
    "start_time": "2025-07-29T17:52:16.914Z"
   },
   {
    "duration": 7,
    "start_time": "2025-07-29T17:52:17.126Z"
   },
   {
    "duration": 354,
    "start_time": "2025-07-29T17:52:17.135Z"
   },
   {
    "duration": 13,
    "start_time": "2025-07-29T17:52:17.490Z"
   },
   {
    "duration": 333,
    "start_time": "2025-07-29T17:52:17.506Z"
   },
   {
    "duration": 8,
    "start_time": "2025-07-29T17:52:17.841Z"
   },
   {
    "duration": 242,
    "start_time": "2025-07-29T17:52:17.850Z"
   },
   {
    "duration": 142,
    "start_time": "2025-07-29T17:52:18.100Z"
   },
   {
    "duration": 11,
    "start_time": "2025-07-29T17:52:18.244Z"
   },
   {
    "duration": 236,
    "start_time": "2025-07-29T17:52:18.256Z"
   },
   {
    "duration": 8,
    "start_time": "2025-07-29T17:52:18.501Z"
   },
   {
    "duration": 288,
    "start_time": "2025-07-29T17:52:18.510Z"
   },
   {
    "duration": 224,
    "start_time": "2025-07-29T17:52:18.800Z"
   },
   {
    "duration": 210,
    "start_time": "2025-07-29T17:52:19.026Z"
   },
   {
    "duration": 7,
    "start_time": "2025-07-29T17:52:19.238Z"
   },
   {
    "duration": 265,
    "start_time": "2025-07-29T17:52:19.246Z"
   },
   {
    "duration": 630,
    "start_time": "2025-07-29T17:52:19.513Z"
   },
   {
    "duration": 216,
    "start_time": "2025-07-29T17:52:20.145Z"
   },
   {
    "duration": 236,
    "start_time": "2025-07-29T17:52:20.363Z"
   },
   {
    "duration": 307,
    "start_time": "2025-07-29T17:52:20.601Z"
   },
   {
    "duration": 354,
    "start_time": "2025-07-29T17:52:20.909Z"
   },
   {
    "duration": 268,
    "start_time": "2025-07-29T17:52:21.265Z"
   },
   {
    "duration": 2899,
    "start_time": "2025-07-29T18:11:37.632Z"
   },
   {
    "duration": 1276,
    "start_time": "2025-07-29T18:11:40.533Z"
   },
   {
    "duration": 170,
    "start_time": "2025-07-29T18:11:41.811Z"
   },
   {
    "duration": 32,
    "start_time": "2025-07-29T18:11:41.986Z"
   },
   {
    "duration": 22,
    "start_time": "2025-07-29T18:11:42.022Z"
   },
   {
    "duration": 14,
    "start_time": "2025-07-29T18:11:42.047Z"
   },
   {
    "duration": 44,
    "start_time": "2025-07-29T18:11:42.062Z"
   },
   {
    "duration": 30,
    "start_time": "2025-07-29T18:11:42.108Z"
   },
   {
    "duration": 26,
    "start_time": "2025-07-29T18:11:42.140Z"
   },
   {
    "duration": 35,
    "start_time": "2025-07-29T18:11:42.168Z"
   },
   {
    "duration": 23,
    "start_time": "2025-07-29T18:11:42.206Z"
   },
   {
    "duration": 26,
    "start_time": "2025-07-29T18:11:42.230Z"
   },
   {
    "duration": 52,
    "start_time": "2025-07-29T18:11:42.257Z"
   },
   {
    "duration": 33,
    "start_time": "2025-07-29T18:11:42.312Z"
   },
   {
    "duration": 13,
    "start_time": "2025-07-29T18:11:42.347Z"
   },
   {
    "duration": 31,
    "start_time": "2025-07-29T18:11:42.362Z"
   },
   {
    "duration": 22,
    "start_time": "2025-07-29T18:11:42.396Z"
   },
   {
    "duration": 10,
    "start_time": "2025-07-29T18:11:42.420Z"
   },
   {
    "duration": 31,
    "start_time": "2025-07-29T18:11:42.432Z"
   },
   {
    "duration": 37,
    "start_time": "2025-07-29T18:11:42.464Z"
   },
   {
    "duration": 4,
    "start_time": "2025-07-29T18:11:42.508Z"
   },
   {
    "duration": 33,
    "start_time": "2025-07-29T18:11:42.513Z"
   },
   {
    "duration": 17,
    "start_time": "2025-07-29T18:11:42.547Z"
   },
   {
    "duration": 37,
    "start_time": "2025-07-29T18:11:42.566Z"
   },
   {
    "duration": 228,
    "start_time": "2025-07-29T18:11:42.607Z"
   },
   {
    "duration": 7,
    "start_time": "2025-07-29T18:11:42.837Z"
   },
   {
    "duration": 234,
    "start_time": "2025-07-29T18:11:42.847Z"
   },
   {
    "duration": 17,
    "start_time": "2025-07-29T18:11:43.091Z"
   },
   {
    "duration": 217,
    "start_time": "2025-07-29T18:11:43.110Z"
   },
   {
    "duration": 6,
    "start_time": "2025-07-29T18:11:43.328Z"
   },
   {
    "duration": 229,
    "start_time": "2025-07-29T18:11:43.336Z"
   },
   {
    "duration": 26,
    "start_time": "2025-07-29T18:11:43.566Z"
   },
   {
    "duration": 333,
    "start_time": "2025-07-29T18:11:43.594Z"
   },
   {
    "duration": 9,
    "start_time": "2025-07-29T18:11:43.929Z"
   },
   {
    "duration": 232,
    "start_time": "2025-07-29T18:11:43.940Z"
   },
   {
    "duration": 137,
    "start_time": "2025-07-29T18:11:44.176Z"
   },
   {
    "duration": 9,
    "start_time": "2025-07-29T18:11:44.315Z"
   },
   {
    "duration": 211,
    "start_time": "2025-07-29T18:11:44.326Z"
   },
   {
    "duration": 7,
    "start_time": "2025-07-29T18:11:44.538Z"
   },
   {
    "duration": 348,
    "start_time": "2025-07-29T18:11:44.546Z"
   },
   {
    "duration": 224,
    "start_time": "2025-07-29T18:11:44.899Z"
   },
   {
    "duration": 215,
    "start_time": "2025-07-29T18:11:45.125Z"
   },
   {
    "duration": 27,
    "start_time": "2025-07-29T18:11:45.341Z"
   },
   {
    "duration": 256,
    "start_time": "2025-07-29T18:11:45.369Z"
   },
   {
    "duration": 699,
    "start_time": "2025-07-29T18:11:45.626Z"
   },
   {
    "duration": 225,
    "start_time": "2025-07-29T18:11:46.327Z"
   },
   {
    "duration": 256,
    "start_time": "2025-07-29T18:11:46.556Z"
   },
   {
    "duration": 335,
    "start_time": "2025-07-29T18:11:46.814Z"
   },
   {
    "duration": 372,
    "start_time": "2025-07-29T18:11:47.151Z"
   },
   {
    "duration": 5554,
    "start_time": "2025-07-29T23:59:43.458Z"
   },
   {
    "duration": 2349,
    "start_time": "2025-07-29T23:59:49.015Z"
   },
   {
    "duration": 180,
    "start_time": "2025-07-29T23:59:51.366Z"
   },
   {
    "duration": 14,
    "start_time": "2025-07-29T23:59:51.548Z"
   },
   {
    "duration": 43,
    "start_time": "2025-07-29T23:59:51.565Z"
   },
   {
    "duration": 10,
    "start_time": "2025-07-29T23:59:51.610Z"
   },
   {
    "duration": 19,
    "start_time": "2025-07-29T23:59:51.621Z"
   },
   {
    "duration": 32,
    "start_time": "2025-07-29T23:59:51.641Z"
   },
   {
    "duration": 31,
    "start_time": "2025-07-29T23:59:51.675Z"
   },
   {
    "duration": 8,
    "start_time": "2025-07-29T23:59:51.708Z"
   },
   {
    "duration": 16,
    "start_time": "2025-07-29T23:59:51.718Z"
   },
   {
    "duration": 20,
    "start_time": "2025-07-29T23:59:51.736Z"
   },
   {
    "duration": 29,
    "start_time": "2025-07-29T23:59:51.757Z"
   },
   {
    "duration": 35,
    "start_time": "2025-07-29T23:59:51.789Z"
   },
   {
    "duration": 13,
    "start_time": "2025-07-29T23:59:51.825Z"
   },
   {
    "duration": 38,
    "start_time": "2025-07-29T23:59:51.840Z"
   },
   {
    "duration": 21,
    "start_time": "2025-07-29T23:59:51.880Z"
   },
   {
    "duration": 10,
    "start_time": "2025-07-29T23:59:51.902Z"
   },
   {
    "duration": 46,
    "start_time": "2025-07-29T23:59:51.913Z"
   },
   {
    "duration": 47,
    "start_time": "2025-07-29T23:59:51.960Z"
   },
   {
    "duration": 2,
    "start_time": "2025-07-29T23:59:52.009Z"
   },
   {
    "duration": 24,
    "start_time": "2025-07-29T23:59:52.013Z"
   },
   {
    "duration": 23,
    "start_time": "2025-07-29T23:59:52.039Z"
   },
   {
    "duration": 84,
    "start_time": "2025-07-29T23:59:52.064Z"
   },
   {
    "duration": 202,
    "start_time": "2025-07-29T23:59:52.150Z"
   },
   {
    "duration": 7,
    "start_time": "2025-07-29T23:59:52.354Z"
   },
   {
    "duration": 266,
    "start_time": "2025-07-29T23:59:52.372Z"
   },
   {
    "duration": 8,
    "start_time": "2025-07-29T23:59:52.640Z"
   },
   {
    "duration": 200,
    "start_time": "2025-07-29T23:59:52.649Z"
   },
   {
    "duration": 6,
    "start_time": "2025-07-29T23:59:52.851Z"
   },
   {
    "duration": 151,
    "start_time": "2025-07-29T23:59:52.858Z"
   },
   {
    "duration": 8,
    "start_time": "2025-07-29T23:59:53.011Z"
   },
   {
    "duration": 319,
    "start_time": "2025-07-29T23:59:53.021Z"
   },
   {
    "duration": 8,
    "start_time": "2025-07-29T23:59:53.342Z"
   },
   {
    "duration": 208,
    "start_time": "2025-07-29T23:59:53.352Z"
   },
   {
    "duration": 119,
    "start_time": "2025-07-29T23:59:53.562Z"
   },
   {
    "duration": 10,
    "start_time": "2025-07-29T23:59:53.683Z"
   },
   {
    "duration": 190,
    "start_time": "2025-07-29T23:59:53.694Z"
   },
   {
    "duration": 6,
    "start_time": "2025-07-29T23:59:53.886Z"
   },
   {
    "duration": 288,
    "start_time": "2025-07-29T23:59:53.893Z"
   },
   {
    "duration": 198,
    "start_time": "2025-07-29T23:59:54.185Z"
   },
   {
    "duration": 237,
    "start_time": "2025-07-29T23:59:54.385Z"
   },
   {
    "duration": 7,
    "start_time": "2025-07-29T23:59:54.624Z"
   },
   {
    "duration": 150,
    "start_time": "2025-07-29T23:59:54.633Z"
   },
   {
    "duration": 571,
    "start_time": "2025-07-29T23:59:54.785Z"
   },
   {
    "duration": 196,
    "start_time": "2025-07-29T23:59:55.358Z"
   },
   {
    "duration": 200,
    "start_time": "2025-07-29T23:59:55.555Z"
   },
   {
    "duration": 285,
    "start_time": "2025-07-29T23:59:55.756Z"
   },
   {
    "duration": 333,
    "start_time": "2025-07-29T23:59:56.043Z"
   }
  ],
  "kernelspec": {
   "display_name": "Python 3 (ipykernel)",
   "language": "python",
   "name": "python3"
  },
  "language_info": {
   "codemirror_mode": {
    "name": "ipython",
    "version": 3
   },
   "file_extension": ".py",
   "mimetype": "text/x-python",
   "name": "python",
   "nbconvert_exporter": "python",
   "pygments_lexer": "ipython3",
   "version": "3.9.7"
  },
  "toc": {
   "base_numbering": 1,
   "nav_menu": {},
   "number_sections": true,
   "sideBar": true,
   "skip_h1_title": true,
   "title_cell": "Table of Contents",
   "title_sidebar": "Contents",
   "toc_cell": false,
   "toc_position": {},
   "toc_section_display": true,
   "toc_window_display": false
  }
 },
 "nbformat": 4,
 "nbformat_minor": 5
}
